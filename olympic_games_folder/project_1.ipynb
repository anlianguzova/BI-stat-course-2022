{
  "cells": [
    {
      "cell_type": "markdown",
      "metadata": {
        "id": "view-in-github",
        "colab_type": "text"
      },
      "source": [
        "<a href=\"https://colab.research.google.com/github/anlianguzova/BI-stat-course-2022/blob/olympic_games_branch/olympic_games_folder/report_folder/project_1.ipynb\" target=\"_parent\"><img src=\"https://colab.research.google.com/assets/colab-badge.svg\" alt=\"Open In Colab\"/></a>"
      ]
    },
    {
      "cell_type": "code",
      "execution_count": null,
      "outputs": [],
      "source": [
        "import pandas as pd\n",
        "import numpy as np\n",
        "from scipy import stats"
      ],
      "metadata": {
        "id": "6A1_kVhkPYmE"
      }
    },
    {
      "cell_type": "markdown",
      "source": [
        "### 1. Function combining files"
      ],
      "metadata": {
        "collapsed": false,
        "id": "4hVrsPhxPYmF"
      }
    },
    {
      "cell_type": "code",
      "execution_count": null,
      "metadata": {
        "collapsed": true,
        "id": "gcnVL8-UPYmG"
      },
      "outputs": [],
      "source": [
        "def combine_files(path: str, extension: str='scv') -> pd.DataFrame:\n",
        "    import glob\n",
        "    suit_files = [name for name in glob.glob(fr'{path}*.*'.format(extension))]\n",
        "    return pd.concat([pd.read_csv(file) for file in suit_files])"
      ]
    },
    {
      "cell_type": "markdown",
      "source": [
        "### Data loading"
      ],
      "metadata": {
        "id": "EzKlHnOMT7qY"
      }
    },
    {
      "cell_type": "code",
      "execution_count": null,
      "outputs": [
        {
          "data": {
            "text/plain": "          ID                    Name Sex   Age  Height  Weight         Team  \\\n0      68370          Helmut Lehmann   M  25.0   178.0    77.0  Switzerland   \n1      68371            Jens Lehmann   M  24.0   188.0    82.0      Germany   \n2      68371            Jens Lehmann   M  24.0   188.0    82.0      Germany   \n3      68371            Jens Lehmann   M  32.0   188.0    82.0      Germany   \n4      68371            Jens Lehmann   M  32.0   188.0    82.0      Germany   \n...      ...                     ...  ..   ...     ...     ...          ...   \n22597  57367  Velik Nikolov Kapsazov   M  21.0   167.0    67.0     Bulgaria   \n22598  57367  Velik Nikolov Kapsazov   M  21.0   167.0    67.0     Bulgaria   \n22599  57367  Velik Nikolov Kapsazov   M  25.0   167.0    67.0     Bulgaria   \n22600  57367  Velik Nikolov Kapsazov   M  25.0   167.0    67.0     Bulgaria   \n22601  57367  Velik Nikolov Kapsazov   M  25.0   167.0    67.0     Bulgaria   \n\n       NOC        Games    Year  Season         City       Sport  \\\n0      SUI  1984 Summer  1984.0  Summer  Los Angeles    Canoeing   \n1      GER  1992 Summer  1992.0  Summer    Barcelona     Cycling   \n2      GER  1992 Summer  1992.0  Summer    Barcelona     Cycling   \n3      GER  2000 Summer  2000.0  Summer       Sydney     Cycling   \n4      GER  2000 Summer  2000.0  Summer       Sydney     Cycling   \n...    ...          ...     ...     ...          ...         ...   \n22597  BUL  1956 Summer  1956.0  Summer    Melbourne  Gymnastics   \n22598  BUL  1956 Summer  1956.0  Summer    Melbourne  Gymnastics   \n22599  BUL  1960 Summer  1960.0  Summer         Roma  Gymnastics   \n22600  BUL  1960 Summer  1960.0  Summer         Roma  Gymnastics   \n22601  BUL  1960 Summer  1960.0  Summer         Roma  Gymnastics   \n\n                                                Event   Medal  \n0            Canoeing Men's Kayak Fours, 1,000 metres     NaN  \n1      Cycling Men's Individual Pursuit, 4,000 metres  Silver  \n2            Cycling Men's Team Pursuit, 4,000 metres    Gold  \n3      Cycling Men's Individual Pursuit, 4,000 metres  Silver  \n4            Cycling Men's Team Pursuit, 4,000 metres    Gold  \n...                                               ...     ...  \n22597                          Gymnastics Men's Rings     NaN  \n22598                Gymnastics Men's Pommelled Horse     NaN  \n22599          Gymnastics Men's Individual All-Around     NaN  \n22600                Gymnastics Men's Team All-Around     NaN  \n22601                                    Gymnastics M     NaN  \n\n[271115 rows x 15 columns]",
            "text/html": "<div>\n<style scoped>\n    .dataframe tbody tr th:only-of-type {\n        vertical-align: middle;\n    }\n\n    .dataframe tbody tr th {\n        vertical-align: top;\n    }\n\n    .dataframe thead th {\n        text-align: right;\n    }\n</style>\n<table border=\"1\" class=\"dataframe\">\n  <thead>\n    <tr style=\"text-align: right;\">\n      <th></th>\n      <th>ID</th>\n      <th>Name</th>\n      <th>Sex</th>\n      <th>Age</th>\n      <th>Height</th>\n      <th>Weight</th>\n      <th>Team</th>\n      <th>NOC</th>\n      <th>Games</th>\n      <th>Year</th>\n      <th>Season</th>\n      <th>City</th>\n      <th>Sport</th>\n      <th>Event</th>\n      <th>Medal</th>\n    </tr>\n  </thead>\n  <tbody>\n    <tr>\n      <th>0</th>\n      <td>68370</td>\n      <td>Helmut Lehmann</td>\n      <td>M</td>\n      <td>25.0</td>\n      <td>178.0</td>\n      <td>77.0</td>\n      <td>Switzerland</td>\n      <td>SUI</td>\n      <td>1984 Summer</td>\n      <td>1984.0</td>\n      <td>Summer</td>\n      <td>Los Angeles</td>\n      <td>Canoeing</td>\n      <td>Canoeing Men's Kayak Fours, 1,000 metres</td>\n      <td>NaN</td>\n    </tr>\n    <tr>\n      <th>1</th>\n      <td>68371</td>\n      <td>Jens Lehmann</td>\n      <td>M</td>\n      <td>24.0</td>\n      <td>188.0</td>\n      <td>82.0</td>\n      <td>Germany</td>\n      <td>GER</td>\n      <td>1992 Summer</td>\n      <td>1992.0</td>\n      <td>Summer</td>\n      <td>Barcelona</td>\n      <td>Cycling</td>\n      <td>Cycling Men's Individual Pursuit, 4,000 metres</td>\n      <td>Silver</td>\n    </tr>\n    <tr>\n      <th>2</th>\n      <td>68371</td>\n      <td>Jens Lehmann</td>\n      <td>M</td>\n      <td>24.0</td>\n      <td>188.0</td>\n      <td>82.0</td>\n      <td>Germany</td>\n      <td>GER</td>\n      <td>1992 Summer</td>\n      <td>1992.0</td>\n      <td>Summer</td>\n      <td>Barcelona</td>\n      <td>Cycling</td>\n      <td>Cycling Men's Team Pursuit, 4,000 metres</td>\n      <td>Gold</td>\n    </tr>\n    <tr>\n      <th>3</th>\n      <td>68371</td>\n      <td>Jens Lehmann</td>\n      <td>M</td>\n      <td>32.0</td>\n      <td>188.0</td>\n      <td>82.0</td>\n      <td>Germany</td>\n      <td>GER</td>\n      <td>2000 Summer</td>\n      <td>2000.0</td>\n      <td>Summer</td>\n      <td>Sydney</td>\n      <td>Cycling</td>\n      <td>Cycling Men's Individual Pursuit, 4,000 metres</td>\n      <td>Silver</td>\n    </tr>\n    <tr>\n      <th>4</th>\n      <td>68371</td>\n      <td>Jens Lehmann</td>\n      <td>M</td>\n      <td>32.0</td>\n      <td>188.0</td>\n      <td>82.0</td>\n      <td>Germany</td>\n      <td>GER</td>\n      <td>2000 Summer</td>\n      <td>2000.0</td>\n      <td>Summer</td>\n      <td>Sydney</td>\n      <td>Cycling</td>\n      <td>Cycling Men's Team Pursuit, 4,000 metres</td>\n      <td>Gold</td>\n    </tr>\n    <tr>\n      <th>...</th>\n      <td>...</td>\n      <td>...</td>\n      <td>...</td>\n      <td>...</td>\n      <td>...</td>\n      <td>...</td>\n      <td>...</td>\n      <td>...</td>\n      <td>...</td>\n      <td>...</td>\n      <td>...</td>\n      <td>...</td>\n      <td>...</td>\n      <td>...</td>\n      <td>...</td>\n    </tr>\n    <tr>\n      <th>22597</th>\n      <td>57367</td>\n      <td>Velik Nikolov Kapsazov</td>\n      <td>M</td>\n      <td>21.0</td>\n      <td>167.0</td>\n      <td>67.0</td>\n      <td>Bulgaria</td>\n      <td>BUL</td>\n      <td>1956 Summer</td>\n      <td>1956.0</td>\n      <td>Summer</td>\n      <td>Melbourne</td>\n      <td>Gymnastics</td>\n      <td>Gymnastics Men's Rings</td>\n      <td>NaN</td>\n    </tr>\n    <tr>\n      <th>22598</th>\n      <td>57367</td>\n      <td>Velik Nikolov Kapsazov</td>\n      <td>M</td>\n      <td>21.0</td>\n      <td>167.0</td>\n      <td>67.0</td>\n      <td>Bulgaria</td>\n      <td>BUL</td>\n      <td>1956 Summer</td>\n      <td>1956.0</td>\n      <td>Summer</td>\n      <td>Melbourne</td>\n      <td>Gymnastics</td>\n      <td>Gymnastics Men's Pommelled Horse</td>\n      <td>NaN</td>\n    </tr>\n    <tr>\n      <th>22599</th>\n      <td>57367</td>\n      <td>Velik Nikolov Kapsazov</td>\n      <td>M</td>\n      <td>25.0</td>\n      <td>167.0</td>\n      <td>67.0</td>\n      <td>Bulgaria</td>\n      <td>BUL</td>\n      <td>1960 Summer</td>\n      <td>1960.0</td>\n      <td>Summer</td>\n      <td>Roma</td>\n      <td>Gymnastics</td>\n      <td>Gymnastics Men's Individual All-Around</td>\n      <td>NaN</td>\n    </tr>\n    <tr>\n      <th>22600</th>\n      <td>57367</td>\n      <td>Velik Nikolov Kapsazov</td>\n      <td>M</td>\n      <td>25.0</td>\n      <td>167.0</td>\n      <td>67.0</td>\n      <td>Bulgaria</td>\n      <td>BUL</td>\n      <td>1960 Summer</td>\n      <td>1960.0</td>\n      <td>Summer</td>\n      <td>Roma</td>\n      <td>Gymnastics</td>\n      <td>Gymnastics Men's Team All-Around</td>\n      <td>NaN</td>\n    </tr>\n    <tr>\n      <th>22601</th>\n      <td>57367</td>\n      <td>Velik Nikolov Kapsazov</td>\n      <td>M</td>\n      <td>25.0</td>\n      <td>167.0</td>\n      <td>67.0</td>\n      <td>Bulgaria</td>\n      <td>BUL</td>\n      <td>1960 Summer</td>\n      <td>1960.0</td>\n      <td>Summer</td>\n      <td>Roma</td>\n      <td>Gymnastics</td>\n      <td>Gymnastics M</td>\n      <td>NaN</td>\n    </tr>\n  </tbody>\n</table>\n<p>271115 rows × 15 columns</p>\n</div>"
          },
          "execution_count": 81,
          "metadata": {},
          "output_type": "execute_result"
        }
      ],
      "source": [
        "path = 'data_folder/athlete_events/'\n",
        "athletes = combine_files(path)\n",
        "athletes.to_csv(\"data/athletes.csv\", index=False, encoding='utf-8-sig') # if it is convenient to look for tiny flaws in the data using some csv viewer\n",
        "athletes # or just open the combined file (better in a new tab)"
      ],
      "metadata": {
        "id": "uRBthuR6PYmH",
        "outputId": "bad74af0-85ea-402a-f0b9-3eec81d48f6c"
      }
    },
    {
      "cell_type": "markdown",
      "source": [
        "### 2. Data analysis and filtering"
      ],
      "metadata": {
        "id": "I78bi7K4UFsh"
      }
    },
    {
      "cell_type": "markdown",
      "source": [
        "Something strange happened to the *Team* column: there are *Sao Tome and Principe*, *Socit Nautique de Bayonne*, *Pigoule* or countries with numbers!!!!!!! Let's look at it thoroughly"
      ],
      "metadata": {
        "collapsed": false,
        "id": "B6wm6mpMPYmI"
      }
    },
    {
      "cell_type": "code",
      "execution_count": null,
      "outputs": [
        {
          "data": {
            "text/plain": "array(['Switzerland', 'Germany', 'East Germany', 'Australia', 'Finland',\n       'Norway', 'Luxembourg', 'West Germany', 'Czechoslovakia',\n       'Pigoule', 'France', 'Ukraine', 'Belgium', 'Antigua and Barbuda',\n       'Austria', 'Denmark', 'Estonia', 'China', 'Hong Kong', 'Myanmar',\n       'American Samoa', 'South Africa', 'Canada', 'United States',\n       'Latvia', 'Argentina', 'Spain', 'Sweden', 'Iceland',\n       'Great Britain', 'Netherlands', 'Hungary', 'Brazil', 'Portugal',\n       'Sao Tome and Principe', 'New Zealand', 'Uruguay', 'Angola',\n       'Italy', 'Venezuela', 'Guatemala', 'Greece',\n       'Socit Nautique de Bayonne', 'Soviet Union', 'Slovenia',\n       'Bulgaria', 'Yugoslavia', 'Kenya', 'Croatia', 'Poland', 'Belarus',\n       'Zambia', 'Gabon', 'Japan', 'Phalainis ton Thorichtou \"Hydra\"',\n       'Colombia', 'Cuba', 'Mexico', 'Trinidad and Tobago', 'Ireland',\n       'Czech Republic', 'Philadelphia Turngemeinde, Philadelphia',\n       'Syndi', 'Puerto Rico', 'Israel', 'Indonesia', 'Serbia', 'Togo',\n       'Paraguay', 'Peru', 'Malaysia', 'Russia', 'Kazakhstan', 'Romania',\n       'Thailand', 'Unified Team', 'Slovakia', 'Fiji',\n       'Pupilles de Neptune de Lille #1', 'Philippines', 'Mascaret',\n       \"L'Aile VI\", 'Saint Lucia', 'Samoa', 'Albania', 'Jamaica',\n       'Panama', 'Seychelles', 'Suriname', 'Moldova', 'Galopin',\n       'Lesotho', 'San Marino', 'Sibindi', 'Chile',\n       'Pupilles de Neptune de Lille', 'Cameroon', 'Honduras', 'Monaco',\n       'Uzbekistan', 'Bermuda', 'Guyana', 'Belize', 'Bahamas',\n       'Saint Vincent and the Grenadines', 'Grenada', 'Toronto Argonauts',\n       'Deutscher Schwimm Verband Berlin', 'Bhutan', 'Turkey',\n       'North Korea', 'Chinese Taipei', 'Singapore', 'Qatar', 'Mauritius',\n       'Azerbaijan', 'Nautikos Omilos', 'Georgia', 'Jupiter',\n       'United States Virgin Islands', 'Saint Kitts and Nevis',\n       'Socialer Turnverein, Detroit', 'Tengiri', 'Pan',\n       'Berliner Ruderverein von 1876', 'Malaya', 'Malawi',\n       'Chicago Athletic Association', 'Combine', 'Mohawk Indians',\n       'Uganda', 'Tonga', 'Ethiopia', 'Brunei', 'Guinea Bissau',\n       'Tunisia', 'Dominican Republic', 'Wiking', 'Ingegerd',\n       'Osborne Swimming Club, Manchester', 'Netherlands Antilles',\n       'Namibia', 'Marga', 'Lucky Girl', 'Nina', 'Xantippa', 'Gallia II',\n       'Erna Signe', 'Galt Football Club', 'QuandMme', 'Dolfijn',\n       'Sierra Leone', 'Mouchette', 'New College, Oxford', 'SagaII',\n       'Sri Lanka', 'Costa Rica', 'Saga', 'Mongolia', 'Andorra',\n       'Dominica', 'Senegal', 'Lithuania', 'Congo (Kinshasa)',\n       'Mozambique', 'Vesper Boat Club', 'Thames Rowing Club', 'England',\n       'Moseley Wanderers', 'Refugee Olympic Athletes', 'Cyprus',\n       'Serbia and Montenegro', 'Morocco', 'Norman', 'Guam', 'Boer Team',\n       'Congo (Brazzaville)', 'Bosnia and Herzegovina', 'Solomon Islands',\n       'Kyrgyzstan', 'Phalainis ton Thorichtou \"Psara\"',\n       'Univ. of Brussels', 'Central African Republic', 'Australasia',\n       'Helsingfors R. K.', 'DeRuyter', 'Llanoria', 'Calcinhas',\n       'Cape Verde', 'El Salvador', 'Nicaragua', 'Aruba', 'May Be',\n       'AliBaba II', 'May Be VII', 'Mutafo', 'Aloha II',\n       'Minerva Amsterdam', 'Guinea', 'Algeria', 'Barbados', 'Haiti',\n       'Sandra', 'Large boat, Central Naval Prep School \"Poros\"',\n       'Ethnikos Gymnastikos Syllogos', 'Argus', 'Alcaid', 'Canopus',\n       'Stade Franais AC', 'Kathleen', 'Liverpool Police Team',\n       'Equatorial Guinea', 'Gustel V', 'Tom Kyle', 'Tilly',\n       'Frankfurt Club', 'Sudan', 'India', 'Tanzania', 'Vanuatu',\n       'Club Nautique de Lyon', 'Ecuador', 'Noreg', 'Elisabeth V',\n       'Encore', 'Sirene', 'Viking', 'Kitty', 'Kullan', 'Vietnam',\n       'Individual Olympic Athletes', 'Bylina', 'Iraq', 'South Vietnam',\n       'Botswana', 'Monica', 'Cambodia', \"Christian Brothers' College\",\n       'Winnipeg Shamrocks', 'Olympion', 'Wales', 'South Korea', 'Syria',\n       'Holland', 'Bem II', 'Starita', 'United Arab Emirates', 'Egypt',\n       'Libya', 'Swaziland', 'USFSA', 'Serendipity', 'Argo II',\n       'State VI', 'Union des Socits Franais de Sports Athletiques',\n       'Nigeria', 'Frimousse', 'Trickson VI', 'Cayman Islands',\n       'Zimbabwe', 'Hera', 'Foxhunters Hurlingham',\n       'Magdalen College Boat Club', 'Leander Club', 'Iran', 'Ancora',\n       'Nurdug II', 'Kuwait', 'Cook Islands', 'Meteor',\n       'Milwaukee Athletic Club', 'Proteus II', 'Malta', 'Akatonbo',\n       'Niger', 'Chad', 'Bahrain', 'Lebanon', 'Pakistan',\n       'United Arab Republic', 'France/Great Britain', 'Benin',\n       'Ludwigshafener Ruderverein', 'Mali', 'Gyp',\n       'Club Nautique de Dieppe', 'Santa Maria', 'Jordan', 'Saudi Arabia',\n       \"Cote d'Ivoire\", 'Zefyros', 'Papua New Guinea', 'Nepal',\n       'Macedonia', 'Crete', 'Turkmenistan', 'Jest', 'Afghanistan',\n       'Escapade', 'Lemzos Thorichton \"Psara\"', 'Maldives', 'Bluebottle',\n       'Salamander', 'Hungaria Evezos Egylet', 'Tuvalu', 'K.S.S.S. 1912',\n       'Nina Claire', 'Armenia', 'Pupilles de Neptune de Lille #2',\n       'Crabe II', 'Omilos Ereton Smyrnis', 'Subbnboana',\n       'RalClub Barcelona', 'South Sudan', 'Gambia',\n       'Lemzos Thorichton \"Spetsai\"', 'Sass', 'Chok', 'Cornwall', 'Ghana',\n       'Posillipo III', 'Lalage', 'Pirouette',\n       'Societ Nautique de la Marne', 'Bolivia', 'Sildra', 'Liberia',\n       'Timor Leste', 'Liechtenstein', 'Amolgavar', 'Saar',\n       'Pistoja/Firenze', 'Romolo', 'Mebi', 'Oleander II', 'Yemen',\n       'Cercle Nautique de Reims', 'Riccar', 'Roy',\n       'British Virgin Islands', 'Chance', 'Lynn', 'Roddklubben af 1912',\n       'Korshun', 'Neptun II', 'Scotia',\n       'Marinai della nave da guerra \"Varese\"', 'Potomac Archers',\n       'TransMississippi Golf Association', 'Central Turnverein, Chicago',\n       'R.V. Germania, Leitmeritz', 'Spirit VI', 'BLO Polo Club, Rugby',\n       'Brentina', 'Yeoman', 'Ravenswood Boat Club', 'Dormy', 'Bingo',\n       'Eritrea', 'South Yemen', 'Montenegro', 'Lucky', 'Widgeon',\n       'Uragan', 'Druzhba', 'Viktoriya', 'Lotta IV', 'Elsie', 'Grifo III',\n       'Nan', 'Camelia', 'Hannover', 'Scamasaxe', 'Athens', 'Antares',\n       'London City Police', 'Concordia Turnverein, St Louis', 'Bohemia',\n       'PanHellenic Athletic Club', 'Three Star Too', 'Ballerina IV',\n       'Lully II', 'Bellatrix IX', 'Bellatrix XIII',\n       'Missouri Athletic Club', 'Jeanette', 'Jeannette', 'Favorite',\n       'Brussels Swimming and Water Polo Club', 'Turquoise',\n       'Sydney Rowing Club', 'Mizar', 'Hungaria', 'Rowing Club Castillon',\n       'Omas Helliniki P. S.', 'Omilos Ereton Peiraios', 'Gam II',\n       'Phoenix', 'Shrew II', 'Andromeda', 'Manana',\n       'St. Louis Amateur Athletic Association', 'Bangladesh',\n       'Antwerpia V', 'Palau', 'Mystery', 'HiHi', 'Nykjbings paa Falster',\n       'Pandora', 'Stella', 'Peiraikos Syndesmos', 'Pampero', 'Rampage',\n       'Aretusa', 'Argeste', 'Libellule de Paris', 'Thessalonki', 'Nauru',\n       'Matrero II', 'Esterel', 'Diabolo St Maurice', 'Red Indian',\n       'Gilliatt V', 'Unique', 'Vision', 'Aschenbrodel', 'Ravel', 'Skum',\n       'Miss Denmark 1964', 'Grifone', 'Humbug V',\n       'Club Nautique de Franais', 'Tramontane', \"Qu'Importe\",\n       'Astrid III', 'Western Golf Association', 'Laos', 'Acturus',\n       'Rose Pompon', 'Kln', 'DemiMondaine', 'Nokaut II', 'Almaz',\n       'New York Athletic Club', 'Tulilind', 'Tornado', 'Taifun',\n       'Notavel', 'Galopin De La Font', 'Margaret', 'Frip IV',\n       'Aldebaran II', 'Milwaukee Turnverein, Milwaukee', 'Kemphaan',\n       'Italia', 'Ciocca II', 'Ciocca', 'Bucintoro Venezia',\n       'Cincinnati Archers', 'Royal Club Nautique de Gand', 'Pimm',\n       'Nephos I', 'Guyoni', 'Fortuna', 'Starlight III', 'Sidi Fekkar',\n       'SidiFekkar', 'White Lady', 'Cambridge University Boat Club',\n       'Devon and Somerset Wanderers', 'Tichiboo', 'Roklubb Kbnhavn',\n       'Saskia', 'Titia', 'Patricia', 'Kalayaan', 'Comanche',\n       'United States Golf Association', 'Acipactli', 'Tajikistan',\n       'Cambria', 'Upton Park FC', 'Cicely', \"Ma'Lindo\", 'Madagascar',\n       'Harmony', 'Racing Club de France', 'Kosovo', 'Alain IV',\n       'Clementine V', 'John B', 'Beaver', 'Bagatelle Polo Club, Paris',\n       'Compigne Polo Club', 'Dansk Idrts Forbund', 'Joy', 'Sorais',\n       'Independent Rowing Club', 'Dinah V', 'MarieTim',\n       'La Salle Turnverein, Chicago', 'Gyrinus', 'Twins II',\n       'Voloira II', 'Orion', 'Heira II',\n       'Berliner Ruderclub SportBorussia', 'Tineke', 'PousseMoi Pas VII',\n       'Tantalus', 'Cobweb', 'Brat', 'Boston Archers', 'Terrible',\n       'Argonaut Rowing Club', 'Emily', 'Feo',\n       'Amateur Athletic Association', 'West Indies Federation', 'Bera',\n       'Irene', 'Merope', 'Passaic Turnverein, Passaic', 'Djinn', 'Tango',\n       'Heroine', 'Australia/Great Britain', 'Scaup', 'Jet', 'Djibouti',\n       'Studenternes Roklub', 'Legionario', 'Merope III',\n       'St. Louis Southwest Turnverein #1', 'Vento Sul',\n       'Federated States of Micronesia', 'Aphrodite', 'Caprice',\n       'Rush VII', 'Rush V', 'Mari', 'Life boat naval ship \"Spetsai\"',\n       'Comoros', 'Anitra', 'Kiribati', 'Germania Ruder Club, Hamburg',\n       'Boreas', 'Angelita', 'St. Margrite',\n       'Davenport Turngemeinde, Davenport', 'Guanahani', 'Bim',\n       'Bonaparte', 'Pam', 'Gullvinge', 'Hollandia', 'Chicago Archers',\n       'Spirit III', 'GyoshuII', 'Mythilus', 'Pannonia RC/National RC',\n       'Marshall Islands', 'Miss Nippon IV', 'Rambo', 'Floresco',\n       'Sheerio', 'Kristiania Roklub', 'TanFePah', 'Ciss', 'Gem II',\n       'Gem III', 'Gem IV', 'Gem VII', 'Gem',\n       'Norwegian Rowing Association', 'Marmi II', 'Burkina Faso',\n       'Surprise', 'Turnverein Vorwrts, Chicago', 'North Yemen', 'Fram',\n       'Magda IX', 'Apache', 'Nirefs', 'Raili', 'Ralia',\n       'Favorite Hammonia', 'ChaCha III',\n       'Panhellenios Gymnastikos Syllogos', 'Sonja II', 'Heatherbell',\n       'Rostock', 'Ludwigshafener Ruder Verein',\n       'Turnverein Vorwrts, Cleveland',\n       'St. Louis Southwest Turnverein #2', 'Somalia', 'Burundi',\n       'Morena', 'Smyrna', 'LaBandera', 'Ylliam VII', 'Unknown',\n       'Vaxholm Roddklubb', 'Covunco III',\n       'South St Louis Turnverein, St Louis', 'Scotland', 'Tajamar',\n       'Norwegier Turnverein, Brooklyn', 'Nirwana', 'Web III', 'Sunshine',\n       'Daisy', 'Heidelberg', 'Amulet', 'WolseleySiddeley', 'Crocodile',\n       'Olle', 'Virginie', 'Leipzig', 'Snowten III', 'Tritons Lillois',\n       'Alcyon', 'Suzon IV', nan, 'Elisabeth X', 'Struten', 'Andorinha',\n       'Grifo IV', 'Ylliam II', 'Ylliam VIII', 'Paka V', 'Brigantia',\n       'Vicking', 'Espardate', 'Espadarte', 'Kannibaltje',\n       'Mound City Rowing Club', 'Newfoundland', 'Fram III', 'Allegro',\n       'Ubu', 'Polyteknisk Roklub', 'Hurlingham',\n       'Socit Nautique de la Basse Seine', 'Western Rowing Club', 'Naiad',\n       'Pakaria', 'St. Rose', 'Essen', 'Miss Nippon V',\n       'Gteborgs Roddfrening', 'Girl Pat', 'Bajazzo', 'IngaLill XXXXIII',\n       'EA II', 'Cinara', 'Namoussa', 'Palestine', 'Ilderim',\n       'Nausikaa 4', 'Blue Red', 'Baby', 'Roma', 'Mosk II', 'Femur',\n       'Bamba', 'Rwanda', 'rn', 'Colette', 'Germany/United States',\n       'Freddy', 'Rika II', 'Tlaloc', 'Ariel', 'Springbok',\n       'New York Athletic Club #1', 'Quicksilver', 'Calypse II', 'Sjhxa',\n       'Ciocca III', 'Three Leaves', 'Paka', 'WillemSix', 'Gitana',\n       'Cupidon Viking', 'Pan II', 'Chaje II', 'Rhodesia', 'Pasodoble',\n       'Freja', 'Kingfisher', 'Yangon', 'Sylvia', 'Web II', 'Thalatta',\n       'Trintel II', 'Barco Deloro', 'Salinero', 'Atalanta Boat Club',\n       'Tutti V', 'Leander Club #2', 'Bonzo', 'Martha', 'Sjovinge',\n       'Maryke', 'Esperia', 'Germania II', 'Wendehals', 'Macky VI', 'Tip',\n       'Brandenburg', '30. Februar', 'MayBe 1960', 'Buraddoo', 'Ceres II',\n       'Silja', 'Vinga', 'Bohemia/Great Britain',\n       'United States/Great Britain', 'Freia', 'Hojwa', 'Zut', 'Wannsee',\n       'Oranje', 'Satchmo', 'Scram', 'Glisten', 'Sans Atout', 'Babe',\n       'Sea Dog', 'Complex II', 'Frieda', 'Mainz', 'Amstel Amsterdam',\n       'Slaghoken II', 'Solos Carex', 'Glider', 'Roehampton', 'Mad Dog',\n       'Hornet', 'Denmark/Sweden', 'Diablo', 'Lasha',\n       'New York Turnverein, New York', 'Vim III',\n       'K Division Metropolitan Police Team', 'Whirlaway', 'Vinha',\n       'A North American Team', 'Windor', 'Dow Jones', 'Danaldo',\n       'Persey', 'Bella', 'Danuta', 'Maid of Lebanon', 'Digby',\n       'Tournade', 'Tornade', 'Galejan', 'Umberta V', 'Rozenn', 'Peri II',\n       'Damoiselle IV', 'Red Dragon', 'Rififi', 'Partenope', 'Bermudes',\n       'Cupidon III', 'Eissero VI', 'Plumepatte', 'PlumePatte',\n       'Pierre et Jean', 'Fruits', 'Souvenance', 'Kurush IV', 'Vesania',\n       'Kurush II', 'Crabe I', 'Gwendoline', 'United States/France',\n       'Chamukina', 'Xolotl', 'Pegaso', 'Ausonia', 'Fada', 'Bu III',\n       'Lerina', 'Hirondelle', 'Venilia', 'The Cloud',\n       \"Cercle de l'Aviron Roubaix\", 'Yeoman XII', 'Suzy', 'Hb',\n       'Mauritania', 'Barion/Bari', 'Fornebo', 'Century Boat Club',\n       'Teresita', 'Bermudian', 'Dresden', 'Mignon', 'Gallant', 'Paula',\n       'Oxalis', 'June Climene', 'Berliner Ruderclub', 'Rhythm', 'Sabre',\n       'Shoveller', 'Gteborgs Roddklubb', 'Finn II', 'Impala', 'TuFri',\n       'Primorka', 'Augsburg', 'Seawanhaka Boat Club', 'Espuma del Mar',\n       'Leander Club #1', 'Dylan', 'Moorina', 'Evita VI', 'Whitini Star',\n       'Slaghoken', 'Great Britain/Germany', 'Nikh', 'Swift',\n       'Buscape II', 'New York Athletic Club #2', 'Arcturus', 'Jo',\n       'Lucky Star', 'Briar', 'Gabbiano', 'Gran Gesto', 'Edelweiss II',\n       'Rush IV', 'Norna', 'AliBaba IV', 'AliBaba VI', 'AliBaba IX',\n       'Peri', 'Fantasio III', 'Sarcelle', 'Damoiselle', 'Brynhild',\n       'Baccara', 'Elvis Va', 'Aldebaran', 'Galatea II', 'Twins VIII',\n       'Calimucho', 'SiamesCat', 'Jill', 'Kiel', 'KNS', 'Nora', 'Lett',\n       'Atlanta', 'TimTam III', 'KonTiki', 'Hatuey', 'Oleander XII',\n       'Yeoman VII', 'Bissbi', 'Oman', 'Burevestnik', 'Olen', 'Galerna',\n       'Breslau', 'Linglom', 'Swedish Star', 'Mirtala', 'Carabinier',\n       'PettitPoucet', 'Kerstin', 'Bronia', 'Snap', 'Firebird II',\n       'Konstanz', 'Marmara', 'Mistral Hojris', 'Symphony', 'Faneca',\n       'Circus', 'Aletta', 'Inca', 'Relampago', 'Snude', 'Nortazo',\n       'North Borneo', 'Ormsund Roklub', 'Chuckles', 'Hakahana', 'Myojo',\n       'Squid III', 'Falcon IV', 'Falcon VI', 'Bona Fide', 'Olimpia',\n       'Sif', 'Mamie', 'C.V.A.', 'Singy', 'Lyn', 'Gustel X', 'Gustl XI',\n       'Hamburg', 'Mac Miche', 'Camille', 'Cuxhaven', 'Tomahawk II',\n       'Formosa', 'Danzig', 'Mascotte', 'Nadine', 'Twinkle', 'Ducky',\n       'Balaton', 'Souriceau', 'Lady C', 'Marsouin', 'Yeoman V',\n       'Pop Art', 'Eleda', 'Barrenjoey', 'Bremen', 'Quando Quando',\n       'Donar III', 'Minotaur', 'MitaII', 'Enotria', 'Verveine',\n       'Ariette', 'Greenoaks Dundee', 'Fantlet', 'Sunrise', 'Potsdam',\n       'Giselle', 'Kuling', 'Ardilla', 'Hilarius', 'Johan', 'Knigsberg',\n       'Don Schufro', 'Lbeck', 'Beatrijs III', 'Lancet', 'Whisper',\n       'Laurea', 'Skidoo', 'Clearwater', 'Angerburg', 'Dick', 'Nrnberg',\n       'Hayama'], dtype=object)"
          },
          "execution_count": 5,
          "metadata": {},
          "output_type": "execute_result"
        }
      ],
      "source": [
        "athletes_upd = athletes.replace(to_replace='\\-[0-9]*', value='', regex=True) #getting rid of counties with numbers\n",
        "athletes_upd.Team.unique() # less values but still..."
      ],
      "metadata": {
        "id": "By-pwkLePYmJ",
        "outputId": "45abc5e1-2d0d-4e77-956e-7889eab2bcaa"
      }
    },
    {
      "cell_type": "markdown",
      "source": [
        "There are toooooo many non-countries names, so i'm gonna filter it"
      ],
      "metadata": {
        "collapsed": false,
        "id": "vWY5WMlEPYmJ"
      }
    },
    {
      "cell_type": "code",
      "execution_count": null,
      "outputs": [],
      "source": [
        "country_list = ['Afghanistan', 'Aland Islands', 'Albania', 'Algeria', 'American Samoa', 'Andorra', 'Angola', 'Anguilla', 'Antarctica', 'Antigua and Barbuda', 'Argentina', 'Armenia', 'Aruba', 'Australia', 'Austria', 'Azerbaijan', 'Bahamas', 'Bahrain', 'Bangladesh', 'Barbados', 'Belarus', 'Belgium', 'Belize', 'Benin', 'Bermuda', 'Bhutan', 'Bolivia, Plurinational State of', 'Bonaire, Sint Eustatius and Saba', 'Bosnia and Herzegovina', 'Botswana', 'Bouvet Island', 'Brazil', 'British Indian Ocean Territory', 'Brunei', 'Bulgaria', 'Burkina Faso', 'Burma', 'Burundi', 'Cambodia', 'Cameroon', 'Canada', 'Cape Verde', 'Cayman Islands', 'Central African Republic', 'Chad', 'Czechoslovakia', 'Chile', 'China', 'Christmas Island', 'Cocos (Keeling) Islands', 'Colombia', 'Comoros', 'Congo', 'Congo, The Democratic Republic of the', 'Congo (Brazzaville)', 'Congo (Kinshasa)', 'Cook Islands', 'Costa Rica', \"Côte d'Ivoire\", 'Croatia', 'Cuba', 'Curaçao', 'Cyprus', 'Czech Republic', 'Denmark', 'Djibouti', 'Dominica', 'Dominican Republic', 'East Germany', 'Ecuador', 'Egypt', 'El Salvador', 'England', 'Equatorial Guinea', 'Eritrea', 'Estonia', 'Ethiopia', 'Falkland Islands (Malvinas)', 'Faroe Islands', 'Fiji', 'Finland', 'France', 'French Guiana', 'French Polynesia', 'French Southern Territories', 'Gabon', 'Gambia', 'Georgia', 'Germany', 'Ghana', 'Gibraltar', 'Great Britain', 'Greece', 'Greenland', 'Grenada', 'Guadeloupe', 'Guam', 'Guatemala', 'Guernsey', 'Guinea', 'Guinea Bissau', 'Guyana', 'Haiti', 'Heard Island and McDonald Islands', 'Holy See (Vatican City State)', 'Honduras', 'Hong Kong', 'Hungary', 'Iceland', 'India', 'Indonesia', 'Iran, Islamic Republic of', 'Iraq', 'Ireland', 'Isle of Man', 'Israel', 'Italy', 'Jamaica', 'Japan', 'Jersey', 'Jordan', 'Kazakhstan', 'Kenya', 'Kiribati', \"Korea, Democratic People's Republic of\", 'Korea, Republic of', 'Kuwait', 'Kyrgyzstan', \"Lao People's Democratic Republic\", 'Latvia', 'Lebanon', 'Lesotho', 'Liberia', 'Libya', 'Liechtenstein', 'Lithuania', 'Luxembourg', 'Macao', 'Macedonia, Republic of', 'Madagascar', 'Malawi', 'Malaysia', 'Maldives', 'Mali', 'Malta', 'Marshall Islands', 'Martinique', 'Mauritania', 'Mauritius', 'Mayotte', 'Mexico', 'Micronesia, Federated States of', 'Moldova', 'Monaco', 'Mongolia', 'Montenegro', 'Montserrat', 'Morocco', 'Mozambique', 'Myanmar', 'Namibia', 'Nauru', 'Nepal', 'Netherlands', 'New Caledonia', 'New Zealand', 'Nicaragua', 'Niger', 'Nigeria', 'Niue', 'Norfolk Island', 'Northern Mariana Islands', 'North Korea', 'Norway', 'Oman', 'Pakistan', 'Palau', 'Palestine', 'Panama', 'Papua New Guinea', 'Paraguay', 'Peru', 'Philippines', 'Pitcairn', 'Poland', 'Portugal', 'Puerto Rico', 'Qatar', 'Réunion', 'Romania', 'Russia', 'Rwanda', 'Saint Barthélemy', 'Saint Helena, Ascension and Tristan da Cunha', 'Saint Kitts and Nevis', 'Saint Lucia', 'Saint Martin (French part)', 'Saint Pierre and Miquelon', 'Saint Vincent and the Grenadines', 'Samoa', 'San Marino', 'Sao Tome and Principe', 'Saudi Arabia', 'Senegal', 'Serbia', 'Serbia and Montenegro', 'Seychelles', 'Sierra Leone', 'Singapore', 'Sint Maarten (Dutch part)', 'Slovakia', 'Slovenia', 'Solomon Islands', 'Somalia', 'Soviet Union', 'South Africa', 'South Georgia and the South Sandwich Islands', 'Spain', 'Sri Lanka', 'Sudan', 'Suriname', 'South Korea', 'South Sudan', 'Svalbard and Jan Mayen', 'Swaziland', 'Sweden', 'Switzerland', 'Syria', 'Taiwan', 'Tajikistan', 'Tanzania, United Republic of', 'Thailand', 'Timor-Leste', 'Togo', 'Tokelau', 'Tonga', 'Trinidad and Tobago', 'Tunisia', 'Turkey', 'Turkmenistan', 'Turks and Caicos Islands', 'Tuvalu', 'Uganda', 'Ukraine', 'Unified Team', 'United Arab Emirates', 'United States', 'United States Minor Outlying Islands', 'United States Virgin Islands','Uruguay', 'Uzbekistan', 'Vanuatu', 'Venezuela', 'Vietnam', 'Virgin Islands, British', 'Virgin Islands', 'Wallis and Futuna', 'West Germany', 'Yemen', 'Yugoslavia', 'Zambia', 'Zimbabwe', 'Individual Olympic Athletes', 'South Vietnam', 'Iran', 'United Arab Republic', 'France/Great Britain', 'Australia/Great Britain', 'Scotland', 'North Yemen', 'Comoros', 'Oman', 'Tanzania', 'Holland', 'Macedonia', 'Hungaria', 'Italia', 'Kosovo', ]"
      ],
      "metadata": {
        "id": "UMCkXZ0rPYmK"
      }
    },
    {
      "cell_type": "code",
      "execution_count": null,
      "outputs": [
        {
          "data": {
            "text/plain": "array(['Pigoule', 'Socit Nautique de Bayonne',\n       'Phalainis ton Thorichtou \"Hydra\"',\n       'Philadelphia Turngemeinde, Philadelphia', 'Syndi',\n       'Pupilles de Neptune de Lille #1', 'Mascaret', \"L'Aile VI\",\n       'Galopin', 'Sibindi', 'Pupilles de Neptune de Lille',\n       'Toronto Argonauts', 'Deutscher Schwimm Verband Berlin',\n       'Chinese Taipei', 'Nautikos Omilos', 'Jupiter',\n       'Socialer Turnverein, Detroit', 'Tengiri', 'Pan',\n       'Berliner Ruderverein von 1876', 'Malaya',\n       'Chicago Athletic Association', 'Combine', 'Mohawk Indians',\n       'Wiking', 'Ingegerd', 'Osborne Swimming Club, Manchester',\n       'Netherlands Antilles', 'Marga', 'Lucky Girl', 'Nina', 'Xantippa',\n       'Gallia II', 'Erna Signe', 'Galt Football Club', 'QuandMme',\n       'Dolfijn', 'Mouchette', 'New College, Oxford', 'SagaII', 'Saga',\n       'Vesper Boat Club', 'Thames Rowing Club', 'Moseley Wanderers',\n       'Refugee Olympic Athletes', 'Norman', 'Boer Team',\n       'Phalainis ton Thorichtou \"Psara\"', 'Univ. of Brussels',\n       'Australasia', 'Helsingfors R. K.', 'DeRuyter', 'Llanoria',\n       'Calcinhas', 'May Be', 'AliBaba II', 'May Be VII', 'Mutafo',\n       'Aloha II', 'Minerva Amsterdam', 'Sandra',\n       'Large boat, Central Naval Prep School \"Poros\"',\n       'Ethnikos Gymnastikos Syllogos', 'Argus', 'Alcaid', 'Canopus',\n       'Stade Franais AC', 'Kathleen', 'Liverpool Police Team',\n       'Gustel V', 'Tom Kyle', 'Tilly', 'Frankfurt Club',\n       'Club Nautique de Lyon', 'Noreg', 'Elisabeth V', 'Encore',\n       'Sirene', 'Viking', 'Kitty', 'Kullan', 'Bylina', 'Monica',\n       \"Christian Brothers' College\", 'Winnipeg Shamrocks', 'Olympion',\n       'Wales', 'Bem II', 'Starita', 'USFSA', 'Serendipity', 'Argo II',\n       'State VI', 'Union des Socits Franais de Sports Athletiques',\n       'Frimousse', 'Trickson VI', 'Hera', 'Foxhunters Hurlingham',\n       'Magdalen College Boat Club', 'Leander Club', 'Ancora',\n       'Nurdug II', 'Meteor', 'Milwaukee Athletic Club', 'Proteus II',\n       'Akatonbo', 'Ludwigshafener Ruderverein', 'Gyp',\n       'Club Nautique de Dieppe', 'Santa Maria', \"Cote d'Ivoire\",\n       'Zefyros', 'Crete', 'Jest', 'Escapade',\n       'Lemzos Thorichton \"Psara\"', 'Bluebottle', 'Salamander',\n       'Hungaria Evezos Egylet', 'K.S.S.S. 1912', 'Nina Claire',\n       'Pupilles de Neptune de Lille #2', 'Crabe II',\n       'Omilos Ereton Smyrnis', 'Subbnboana', 'RalClub Barcelona',\n       'Lemzos Thorichton \"Spetsai\"', 'Sass', 'Chok', 'Cornwall',\n       'Posillipo III', 'Lalage', 'Pirouette',\n       'Societ Nautique de la Marne', 'Bolivia', 'Sildra', 'Timor Leste',\n       'Amolgavar', 'Saar', 'Pistoja/Firenze', 'Romolo', 'Mebi',\n       'Oleander II', 'Cercle Nautique de Reims', 'Riccar', 'Roy',\n       'British Virgin Islands', 'Chance', 'Lynn', 'Roddklubben af 1912',\n       'Korshun', 'Neptun II', 'Scotia',\n       'Marinai della nave da guerra \"Varese\"', 'Potomac Archers',\n       'TransMississippi Golf Association', 'Central Turnverein, Chicago',\n       'R.V. Germania, Leitmeritz', 'Spirit VI', 'BLO Polo Club, Rugby',\n       'Brentina', 'Yeoman', 'Ravenswood Boat Club', 'Dormy', 'Bingo',\n       'South Yemen', 'Lucky', 'Widgeon', 'Uragan', 'Druzhba',\n       'Viktoriya', 'Lotta IV', 'Elsie', 'Grifo III', 'Nan', 'Camelia',\n       'Hannover', 'Scamasaxe', 'Athens', 'Antares', 'London City Police',\n       'Concordia Turnverein, St Louis', 'Bohemia',\n       'PanHellenic Athletic Club', 'Three Star Too', 'Ballerina IV',\n       'Lully II', 'Bellatrix IX', 'Bellatrix XIII',\n       'Missouri Athletic Club', 'Jeanette', 'Jeannette', 'Favorite',\n       'Brussels Swimming and Water Polo Club', 'Turquoise',\n       'Sydney Rowing Club', 'Mizar', 'Rowing Club Castillon',\n       'Omas Helliniki P. S.', 'Omilos Ereton Peiraios', 'Gam II',\n       'Phoenix', 'Shrew II', 'Andromeda', 'Manana',\n       'St. Louis Amateur Athletic Association', 'Antwerpia V', 'Mystery',\n       'HiHi', 'Nykjbings paa Falster', 'Pandora', 'Stella',\n       'Peiraikos Syndesmos', 'Pampero', 'Rampage', 'Aretusa', 'Argeste',\n       'Libellule de Paris', 'Thessalonki', 'Matrero II', 'Esterel',\n       'Diabolo St Maurice', 'Red Indian', 'Gilliatt V', 'Unique',\n       'Vision', 'Aschenbrodel', 'Ravel', 'Skum', 'Miss Denmark 1964',\n       'Grifone', 'Humbug V', 'Club Nautique de Franais', 'Tramontane',\n       \"Qu'Importe\", 'Astrid III', 'Western Golf Association', 'Laos',\n       'Acturus', 'Rose Pompon', 'Kln', 'DemiMondaine', 'Nokaut II',\n       'Almaz', 'New York Athletic Club', 'Tulilind', 'Tornado', 'Taifun',\n       'Notavel', 'Galopin De La Font', 'Margaret', 'Frip IV',\n       'Aldebaran II', 'Milwaukee Turnverein, Milwaukee', 'Kemphaan',\n       'Ciocca II', 'Ciocca', 'Bucintoro Venezia', 'Cincinnati Archers',\n       'Royal Club Nautique de Gand', 'Pimm', 'Nephos I', 'Guyoni',\n       'Fortuna', 'Starlight III', 'Sidi Fekkar', 'SidiFekkar',\n       'White Lady', 'Cambridge University Boat Club',\n       'Devon and Somerset Wanderers', 'Tichiboo', 'Roklubb Kbnhavn',\n       'Saskia', 'Titia', 'Patricia', 'Kalayaan', 'Comanche',\n       'United States Golf Association', 'Acipactli', 'Cambria',\n       'Upton Park FC', 'Cicely', \"Ma'Lindo\", 'Harmony',\n       'Racing Club de France', 'Alain IV', 'Clementine V', 'John B',\n       'Beaver', 'Bagatelle Polo Club, Paris', 'Compigne Polo Club',\n       'Dansk Idrts Forbund', 'Joy', 'Sorais', 'Independent Rowing Club',\n       'Dinah V', 'MarieTim', 'La Salle Turnverein, Chicago', 'Gyrinus',\n       'Twins II', 'Voloira II', 'Orion', 'Heira II',\n       'Berliner Ruderclub SportBorussia', 'Tineke', 'PousseMoi Pas VII',\n       'Tantalus', 'Cobweb', 'Brat', 'Boston Archers', 'Terrible',\n       'Argonaut Rowing Club', 'Emily', 'Feo',\n       'Amateur Athletic Association', 'West Indies Federation', 'Bera',\n       'Irene', 'Merope', 'Passaic Turnverein, Passaic', 'Djinn', 'Tango',\n       'Heroine', 'Scaup', 'Jet', 'Studenternes Roklub', 'Legionario',\n       'Merope III', 'St. Louis Southwest Turnverein #1', 'Vento Sul',\n       'Federated States of Micronesia', 'Aphrodite', 'Caprice',\n       'Rush VII', 'Rush V', 'Mari', 'Life boat naval ship \"Spetsai\"',\n       'Anitra', 'Germania Ruder Club, Hamburg', 'Boreas', 'Angelita',\n       'St. Margrite', 'Davenport Turngemeinde, Davenport', 'Guanahani',\n       'Bim', 'Bonaparte', 'Pam', 'Gullvinge', 'Hollandia',\n       'Chicago Archers', 'Spirit III', 'GyoshuII', 'Mythilus',\n       'Pannonia RC/National RC', 'Miss Nippon IV', 'Rambo', 'Floresco',\n       'Sheerio', 'Kristiania Roklub', 'TanFePah', 'Ciss', 'Gem II',\n       'Gem III', 'Gem IV', 'Gem VII', 'Gem',\n       'Norwegian Rowing Association', 'Marmi II', 'Surprise',\n       'Turnverein Vorwrts, Chicago', 'Fram', 'Magda IX', 'Apache',\n       'Nirefs', 'Raili', 'Ralia', 'Favorite Hammonia', 'ChaCha III',\n       'Panhellenios Gymnastikos Syllogos', 'Sonja II', 'Heatherbell',\n       'Rostock', 'Ludwigshafener Ruder Verein',\n       'Turnverein Vorwrts, Cleveland',\n       'St. Louis Southwest Turnverein #2', 'Morena', 'Smyrna',\n       'LaBandera', 'Ylliam VII', 'Unknown', 'Vaxholm Roddklubb',\n       'Covunco III', 'South St Louis Turnverein, St Louis', 'Tajamar',\n       'Norwegier Turnverein, Brooklyn', 'Nirwana', 'Web III', 'Sunshine',\n       'Daisy', 'Heidelberg', 'Amulet', 'WolseleySiddeley', 'Crocodile',\n       'Olle', 'Virginie', 'Leipzig', 'Snowten III', 'Tritons Lillois',\n       'Alcyon', 'Suzon IV', nan, 'Elisabeth X', 'Struten', 'Andorinha',\n       'Grifo IV', 'Ylliam II', 'Ylliam VIII', 'Paka V', 'Brigantia',\n       'Vicking', 'Espardate', 'Espadarte', 'Kannibaltje',\n       'Mound City Rowing Club', 'Newfoundland', 'Fram III', 'Allegro',\n       'Ubu', 'Polyteknisk Roklub', 'Hurlingham',\n       'Socit Nautique de la Basse Seine', 'Western Rowing Club', 'Naiad',\n       'Pakaria', 'St. Rose', 'Essen', 'Miss Nippon V',\n       'Gteborgs Roddfrening', 'Girl Pat', 'Bajazzo', 'IngaLill XXXXIII',\n       'EA II', 'Cinara', 'Namoussa', 'Ilderim', 'Nausikaa 4', 'Blue Red',\n       'Baby', 'Roma', 'Mosk II', 'Femur', 'Bamba', 'rn', 'Colette',\n       'Germany/United States', 'Freddy', 'Rika II', 'Tlaloc', 'Ariel',\n       'Springbok', 'New York Athletic Club #1', 'Quicksilver',\n       'Calypse II', 'Sjhxa', 'Ciocca III', 'Three Leaves', 'Paka',\n       'WillemSix', 'Gitana', 'Cupidon Viking', 'Pan II', 'Chaje II',\n       'Rhodesia', 'Pasodoble', 'Freja', 'Kingfisher', 'Yangon', 'Sylvia',\n       'Web II', 'Thalatta', 'Trintel II', 'Barco Deloro', 'Salinero',\n       'Atalanta Boat Club', 'Tutti V', 'Leander Club #2', 'Bonzo',\n       'Martha', 'Sjovinge', 'Maryke', 'Esperia', 'Germania II',\n       'Wendehals', 'Macky VI', 'Tip', 'Brandenburg', '30. Februar',\n       'MayBe 1960', 'Buraddoo', 'Ceres II', 'Silja', 'Vinga',\n       'Bohemia/Great Britain', 'United States/Great Britain', 'Freia',\n       'Hojwa', 'Zut', 'Wannsee', 'Oranje', 'Satchmo', 'Scram', 'Glisten',\n       'Sans Atout', 'Babe', 'Sea Dog', 'Complex II', 'Frieda', 'Mainz',\n       'Amstel Amsterdam', 'Slaghoken II', 'Solos Carex', 'Glider',\n       'Roehampton', 'Mad Dog', 'Hornet', 'Denmark/Sweden', 'Diablo',\n       'Lasha', 'New York Turnverein, New York', 'Vim III',\n       'K Division Metropolitan Police Team', 'Whirlaway', 'Vinha',\n       'A North American Team', 'Windor', 'Dow Jones', 'Danaldo',\n       'Persey', 'Bella', 'Danuta', 'Maid of Lebanon', 'Digby',\n       'Tournade', 'Tornade', 'Galejan', 'Umberta V', 'Rozenn', 'Peri II',\n       'Damoiselle IV', 'Red Dragon', 'Rififi', 'Partenope', 'Bermudes',\n       'Cupidon III', 'Eissero VI', 'Plumepatte', 'PlumePatte',\n       'Pierre et Jean', 'Fruits', 'Souvenance', 'Kurush IV', 'Vesania',\n       'Kurush II', 'Crabe I', 'Gwendoline', 'United States/France',\n       'Chamukina', 'Xolotl', 'Pegaso', 'Ausonia', 'Fada', 'Bu III',\n       'Lerina', 'Hirondelle', 'Venilia', 'The Cloud',\n       \"Cercle de l'Aviron Roubaix\", 'Yeoman XII', 'Suzy', 'Hb',\n       'Barion/Bari', 'Fornebo', 'Century Boat Club', 'Teresita',\n       'Bermudian', 'Dresden', 'Mignon', 'Gallant', 'Paula', 'Oxalis',\n       'June Climene', 'Berliner Ruderclub', 'Rhythm', 'Sabre',\n       'Shoveller', 'Gteborgs Roddklubb', 'Finn II', 'Impala', 'TuFri',\n       'Primorka', 'Augsburg', 'Seawanhaka Boat Club', 'Espuma del Mar',\n       'Leander Club #1', 'Dylan', 'Moorina', 'Evita VI', 'Whitini Star',\n       'Slaghoken', 'Great Britain/Germany', 'Nikh', 'Swift',\n       'Buscape II', 'New York Athletic Club #2', 'Arcturus', 'Jo',\n       'Lucky Star', 'Briar', 'Gabbiano', 'Gran Gesto', 'Edelweiss II',\n       'Rush IV', 'Norna', 'AliBaba IV', 'AliBaba VI', 'AliBaba IX',\n       'Peri', 'Fantasio III', 'Sarcelle', 'Damoiselle', 'Brynhild',\n       'Baccara', 'Elvis Va', 'Aldebaran', 'Galatea II', 'Twins VIII',\n       'Calimucho', 'SiamesCat', 'Jill', 'Kiel', 'KNS', 'Nora', 'Lett',\n       'Atlanta', 'TimTam III', 'KonTiki', 'Hatuey', 'Oleander XII',\n       'Yeoman VII', 'Bissbi', 'Burevestnik', 'Olen', 'Galerna',\n       'Breslau', 'Linglom', 'Swedish Star', 'Mirtala', 'Carabinier',\n       'PettitPoucet', 'Kerstin', 'Bronia', 'Snap', 'Firebird II',\n       'Konstanz', 'Marmara', 'Mistral Hojris', 'Symphony', 'Faneca',\n       'Circus', 'Aletta', 'Inca', 'Relampago', 'Snude', 'Nortazo',\n       'North Borneo', 'Ormsund Roklub', 'Chuckles', 'Hakahana', 'Myojo',\n       'Squid III', 'Falcon IV', 'Falcon VI', 'Bona Fide', 'Olimpia',\n       'Sif', 'Mamie', 'C.V.A.', 'Singy', 'Lyn', 'Gustel X', 'Gustl XI',\n       'Hamburg', 'Mac Miche', 'Camille', 'Cuxhaven', 'Tomahawk II',\n       'Formosa', 'Danzig', 'Mascotte', 'Nadine', 'Twinkle', 'Ducky',\n       'Balaton', 'Souriceau', 'Lady C', 'Marsouin', 'Yeoman V',\n       'Pop Art', 'Eleda', 'Barrenjoey', 'Bremen', 'Quando Quando',\n       'Donar III', 'Minotaur', 'MitaII', 'Enotria', 'Verveine',\n       'Ariette', 'Greenoaks Dundee', 'Fantlet', 'Sunrise', 'Potsdam',\n       'Giselle', 'Kuling', 'Ardilla', 'Hilarius', 'Johan', 'Knigsberg',\n       'Don Schufro', 'Lbeck', 'Beatrijs III', 'Lancet', 'Whisper',\n       'Laurea', 'Skidoo', 'Clearwater', 'Angerburg', 'Dick', 'Nrnberg',\n       'Hayama'], dtype=object)"
          },
          "execution_count": 6,
          "metadata": {},
          "output_type": "execute_result"
        }
      ],
      "source": [
        "not_country = athletes_upd.query(\"Team not in @country_list\")\n",
        "not_country.Team.unique()"
      ],
      "metadata": {
        "id": "mOkqXRpIPYmK",
        "outputId": "f86d790e-9588-443c-8eb3-cf66826754ad"
      }
    },
    {
      "cell_type": "code",
      "execution_count": null,
      "outputs": [],
      "source": [
        "athletes_filtered = athletes_upd.loc[athletes_upd['Team'].isin(country_list)] # left only people from adequate countries. "
      ],
      "metadata": {
        "id": "w6wQIwoBPYmL"
      }
    },
    {
      "cell_type": "markdown",
      "source": [
        "one can look for the names of people with strange teams and compare with other raws with this person but i don't have a mood for this...."
      ],
      "metadata": {
        "id": "-WMu1Z8rUQSo"
      }
    },
    {
      "cell_type": "markdown",
      "source": [
        "There are also one strange value in Height column (340)"
      ],
      "metadata": {
        "collapsed": false,
        "id": "fz486bV5PYmM"
      }
    },
    {
      "cell_type": "code",
      "execution_count": null,
      "outputs": [
        {
          "data": {
            "text/plain": "        ID                            Name Sex   Age  Height  Weight  \\\n227  23549  Kirsty Leigh Coventry (Seward)   F  28.0   340.0    64.0   \n\n         Team  NOC        Games    Year  Season    City     Sport  \\\n227  Zimbabwe  ZIM  2012 Summer  2012.0  Summer  London  Swimming   \n\n                                             Event Medal  \n227  Swimming Women's 200 metres Individual Medley   NaN  ",
            "text/html": "<div>\n<style scoped>\n    .dataframe tbody tr th:only-of-type {\n        vertical-align: middle;\n    }\n\n    .dataframe tbody tr th {\n        vertical-align: top;\n    }\n\n    .dataframe thead th {\n        text-align: right;\n    }\n</style>\n<table border=\"1\" class=\"dataframe\">\n  <thead>\n    <tr style=\"text-align: right;\">\n      <th></th>\n      <th>ID</th>\n      <th>Name</th>\n      <th>Sex</th>\n      <th>Age</th>\n      <th>Height</th>\n      <th>Weight</th>\n      <th>Team</th>\n      <th>NOC</th>\n      <th>Games</th>\n      <th>Year</th>\n      <th>Season</th>\n      <th>City</th>\n      <th>Sport</th>\n      <th>Event</th>\n      <th>Medal</th>\n    </tr>\n  </thead>\n  <tbody>\n    <tr>\n      <th>227</th>\n      <td>23549</td>\n      <td>Kirsty Leigh Coventry (Seward)</td>\n      <td>F</td>\n      <td>28.0</td>\n      <td>340.0</td>\n      <td>64.0</td>\n      <td>Zimbabwe</td>\n      <td>ZIM</td>\n      <td>2012 Summer</td>\n      <td>2012.0</td>\n      <td>Summer</td>\n      <td>London</td>\n      <td>Swimming</td>\n      <td>Swimming Women's 200 metres Individual Medley</td>\n      <td>NaN</td>\n    </tr>\n  </tbody>\n</table>\n</div>"
          },
          "execution_count": 24,
          "metadata": {},
          "output_type": "execute_result"
        }
      ],
      "source": [
        "athletes_filtered[athletes_filtered['Height'] == 340]"
      ],
      "metadata": {
        "id": "StHhgFKAPYmN",
        "outputId": "eaeed75d-cf17-42a6-a3b0-2f84c235bec6"
      }
    },
    {
      "cell_type": "code",
      "execution_count": null,
      "outputs": [],
      "source": [
        "athletes_filtered.at[227, 'Height']=176.0 #i googled her true height"
      ],
      "metadata": {
        "id": "0P9t9wrrPYmN"
      }
    },
    {
      "cell_type": "markdown",
      "source": [
        "### 3. Age task"
      ],
      "metadata": {
        "collapsed": false,
        "id": "gUZq5XWPPYmN"
      }
    },
    {
      "cell_type": "code",
      "execution_count": null,
      "outputs": [],
      "source": [
        "import heapq"
      ],
      "metadata": {
        "id": "Z47yE-QgPYmO"
      }
    },
    {
      "cell_type": "code",
      "execution_count": null,
      "outputs": [
        {
          "data": {
            "text/plain": "[11.0, 12.0]"
          },
          "execution_count": 9,
          "metadata": {},
          "output_type": "execute_result"
        }
      ],
      "source": [
        "athletes_age_filt = athletes_filtered[athletes_filtered['Age'].notna()]\n",
        "males = athletes_age_filt[athletes_age_filt['Sex'] == 'M']\n",
        "females = athletes_age_filt[athletes_age_filt['Sex'] == 'F']\n",
        "heapq.nsmallest(2, males['Age'].unique()) # the youngest boys\n",
        "heapq.nsmallest(2, females['Age'].unique()) # the youngest girls"
      ],
      "metadata": {
        "id": "ukA9bluZPYmO",
        "outputId": "46abc3e5-fc46-432d-943d-8b950919d853"
      }
    },
    {
      "cell_type": "markdown",
      "source": [
        "**[11.0, 12.0], [11.0, 12.0]** - for both girls and boys. Thus, the age of the youngest is ***11*** years old."
      ],
      "metadata": {
        "id": "SFvfFDmOUhQr"
      }
    },
    {
      "cell_type": "markdown",
      "source": [
        "### 4. Height tasks"
      ],
      "metadata": {
        "collapsed": false,
        "id": "LIvu9HnEPYmP"
      }
    },
    {
      "cell_type": "code",
      "execution_count": null,
      "outputs": [
        {
          "data": {
            "text/plain": "(167.868536030644, 8.813787841963014)"
          },
          "execution_count": 10,
          "metadata": {},
          "output_type": "execute_result"
        }
      ],
      "source": [
        "athletes_height_filt = athletes_filtered[athletes_filtered['Height'].notna()]\n",
        "height_fem = athletes_height_filt[athletes_height_filt['Sex'] == 'F']\n",
        "height_fem['Height'].mean(), height_fem['Height'].std() # mean height and standard deviation"
      ],
      "metadata": {
        "id": "cCgCezofPYmP",
        "outputId": "ba949c02-065d-461d-cf52-caad24d0210c"
      }
    },
    {
      "cell_type": "markdown",
      "source": [
        "The mean height of *women* is ***167.87*** with standard deviation ***8.81***."
      ],
      "metadata": {
        "id": "okd-c3UPU5U7"
      }
    },
    {
      "cell_type": "code",
      "execution_count": null,
      "outputs": [
        {
          "data": {
            "text/plain": "(178.90626299944302, 9.366192072615458)"
          },
          "execution_count": 11,
          "metadata": {},
          "output_type": "execute_result"
        }
      ],
      "source": [
        "height_male = athletes_height_filt[athletes_height_filt['Sex'] == 'M']\n",
        "height_male['Height'].mean(), height_male['Height'].std() # mean height and standard deviation"
      ],
      "metadata": {
        "id": "p_sbuFFAPYmP",
        "outputId": "0996621a-eeda-47e8-f34d-627f7fb45765"
      }
    },
    {
      "cell_type": "markdown",
      "source": [
        "The mean height of *men* is ***178.91*** with standard deviation ***9.37***."
      ],
      "metadata": {
        "id": "r6pAonRtVG_t"
      }
    },
    {
      "cell_type": "markdown",
      "source": [
        "#### 5. Tennis 2000"
      ],
      "metadata": {
        "collapsed": false,
        "id": "q_a-Ixt1PYmQ"
      }
    },
    {
      "cell_type": "code",
      "execution_count": null,
      "outputs": [
        {
          "data": {
            "text/plain": "(171.8, 6.5)"
          },
          "execution_count": 12,
          "metadata": {},
          "output_type": "execute_result"
        }
      ],
      "source": [
        "tennis_fem = height_fem.loc[(height_fem['Sport'] == 'Tennis') & (height_fem['Year'] == 2000.0)]\n",
        "round(tennis_fem['Height'].mean(), 1), round(tennis_fem['Height'].std(), 1)"
      ],
      "metadata": {
        "id": "I6CKf255PYmQ",
        "outputId": "7413105d-f83d-47d1-b885-e3d098f20615"
      }
    },
    {
      "cell_type": "markdown",
      "source": [
        "The mean height of the female tennisists in 2000 is ***171.8*** with standard deviation ***6.5***"
      ],
      "metadata": {
        "id": "cmqkqQITVaMP"
      }
    },
    {
      "cell_type": "markdown",
      "source": [
        "### 6. The heaviest sportsman in 2006"
      ],
      "metadata": {
        "collapsed": false,
        "id": "qY8IEdfRPYmQ"
      }
    },
    {
      "cell_type": "code",
      "execution_count": null,
      "outputs": [
        {
          "data": {
            "text/plain": "8102    Skeleton\nName: Sport, dtype: object"
          },
          "execution_count": 222,
          "metadata": {},
          "output_type": "execute_result"
        }
      ],
      "source": [
        "athletes_2006 = athletes_filtered.loc[(athletes_filtered['Sex'] == 'M') & (athletes_filtered['Year'] == 2006.0)]\n",
        "heaviest = athletes_2006[athletes_2006['Weight'] == max(athletes_2006['Weight'])]\n",
        "heaviest['Sport'] # Skeleton!"
      ],
      "metadata": {
        "id": "pp0pv0PKPYmR",
        "outputId": "c2a62994-c775-4c14-bcbd-7912656c0bf5"
      }
    },
    {
      "cell_type": "markdown",
      "source": [
        "The sport of the heaviest person, Patrick R. Antaki, in 2006 is ***skeleton***."
      ],
      "metadata": {
        "id": "D1-Cds77YCNW"
      }
    },
    {
      "cell_type": "markdown",
      "source": [
        "### 7. Golden medals and women"
      ],
      "metadata": {
        "collapsed": false,
        "id": "6IRcL3tBPYmR"
      }
    },
    {
      "cell_type": "code",
      "execution_count": null,
      "outputs": [
        {
          "data": {
            "text/plain": "2245"
          },
          "execution_count": 159,
          "metadata": {},
          "output_type": "execute_result"
        }
      ],
      "source": [
        "females_in_range = athletes_filtered.loc[(athletes_filtered['Sex'] == 'F') & (athletes_filtered['Year'].between(1980, 2010)) & (athletes_filtered['Medal'] == 'Gold')]\n",
        "females_in_range.shape[0] # the number of medales"
      ],
      "metadata": {
        "id": "RPUSNrTfPYmR",
        "outputId": "e8ddddf4-af7a-4d24-80f4-8e5afdd99e50"
      }
    },
    {
      "cell_type": "markdown",
      "source": [
        "Women won ***2245 ***medals from 1980 to 2010. "
      ],
      "metadata": {
        "id": "LC74lhEgYTik"
      }
    },
    {
      "cell_type": "markdown",
      "source": [
        "### 8. John Aalberg"
      ],
      "metadata": {
        "collapsed": false,
        "id": "3tR2PYXoPYmS"
      }
    },
    {
      "cell_type": "code",
      "execution_count": null,
      "outputs": [
        {
          "data": {
            "text/plain": "(4, 4)"
          },
          "execution_count": 181,
          "metadata": {},
          "output_type": "execute_result"
        }
      ],
      "source": [
        "john = athletes_filtered.loc[athletes_filtered['Name'] == 'John Aalberg']\n",
        "\n",
        "john.loc[john['Year'] == john['Year'].unique()[0]].shape[0], john.loc[john['Year'] == john['Year'].unique()[1]].shape[0] # in 1992, 1994 respectively"
      ],
      "metadata": {
        "id": "gUi6r1rvPYmS",
        "outputId": "3dfab86c-5da0-4716-fc96-526a4c518da1"
      }
    },
    {
      "cell_type": "markdown",
      "source": [
        "John Aalberg participated 4 times in winter games in 1992 and the same amount in 1994. "
      ],
      "metadata": {
        "id": "FU13sYzOYaoM"
      }
    },
    {
      "cell_type": "markdown",
      "source": [
        "### 9. Age groups"
      ],
      "metadata": {
        "collapsed": false,
        "id": "Gx_8j14aPYmS"
      }
    },
    {
      "cell_type": "code",
      "source": [
        "athletes_2008 = athletes_filtered.loc[athletes_filtered['Year'] == 2008]\n",
        "min(athletes_2008['Age']), max(athletes_2008['Age'])"
      ],
      "metadata": {
        "id": "BdRPJ4xyYl0d"
      },
      "execution_count": null,
      "outputs": []
    },
    {
      "cell_type": "code",
      "execution_count": null,
      "outputs": [],
      "source": [
        "def age_group(age: int|float) -> str:\n",
        "    if 20 > age >= 12:\n",
        "        return '[12; 20)'\n",
        "    if 35 > age >= 20:\n",
        "        return '[20; 35)'\n",
        "    if 50 > age >= 35:\n",
        "        return '[35; 50)'\n",
        "    return '[50; 67]'"
      ],
      "metadata": {
        "id": "64L3z57BPYmT"
      }
    },
    {
      "cell_type": "code",
      "execution_count": null,
      "outputs": [],
      "source": [
        "ages = athletes_2008['Age']\n",
        "#athletes_2008['Age group'] = list(map(lambda age: age_group(age), ages))\n",
        "athletes_2008 = athletes_2008.assign(Age_group = list(map(lambda age: age_group(age), ages)))\n",
        "athletes_uniq_people = athletes_2008.drop_duplicates(subset=['Name'])\n",
        "athletes_uniq_people['Age_group'].value_counts()"
      ],
      "metadata": {
        "id": "yphjN2yEPYmT"
      }
    },
    {
      "cell_type": "markdown",
      "source": [
        "Thus, **[20; 35)*** most represented group, **[50; 67]** - less represented."
      ],
      "metadata": {
        "collapsed": false,
        "id": "qnSHBOcKPYmT"
      }
    },
    {
      "cell_type": "markdown",
      "source": [
        "### 10. Comparing 1994 and 2002"
      ],
      "metadata": {
        "collapsed": false,
        "id": "hsfeuLbCPYmU"
      }
    },
    {
      "cell_type": "code",
      "execution_count": null,
      "outputs": [],
      "source": [
        "athletes_1994 = athletes_filtered.loc[athletes_filtered['Year'] == 1994]\n",
        "athletes_2002 = athletes_filtered.loc[athletes_filtered['Year'] == 2002]\n",
        "athletes_2002['Sport'].unique().shape[0] - athletes_1994['Sport'].unique().shape[0]"
      ],
      "metadata": {
        "id": "ZsMr9R3VPYmU"
      }
    },
    {
      "cell_type": "markdown",
      "source": [
        "More ***3*** sports in 2002!"
      ],
      "metadata": {
        "collapsed": false,
        "id": "ruxDzI_RPYmV"
      }
    },
    {
      "cell_type": "markdown",
      "source": [
        "### 11. Winter and summer medals"
      ],
      "metadata": {
        "collapsed": false,
        "id": "T3E5Zjk2PYmV"
      }
    },
    {
      "cell_type": "code",
      "execution_count": null,
      "outputs": [],
      "source": [
        "summer_olymp = athletes_filtered.loc[athletes_filtered['Season'] == 'Summer']\n",
        "\n",
        "gold_summer = summer_olymp.loc[summer_olymp['Medal'] == 'Gold']\n",
        "silver_summer = summer_olymp.loc[summer_olymp['Medal'] == 'Silver']\n",
        "bronze_summer = summer_olymp.loc[summer_olymp['Medal'] == 'Bronze']"
      ],
      "metadata": {
        "id": "_Een2FKaPYmV"
      }
    },
    {
      "cell_type": "code",
      "execution_count": null,
      "outputs": [
        {
          "data": {
            "text/plain": "Team\nUnited States    2363\nSoviet Union      830\nGermany           568\ndtype: int64"
          },
          "execution_count": 27,
          "metadata": {},
          "output_type": "execute_result"
        }
      ],
      "source": [
        "gold_summer.value_counts('Team').head(3) # Top 3 countries with golden medal"
      ],
      "metadata": {
        "id": "FshGevCfPYmV",
        "outputId": "61117810-1c07-4e58-e716-6f528307c0f3"
      }
    },
    {
      "cell_type": "markdown",
      "source": [
        "Top 3 countries with golden medal in summer games: ***United States***, ***Soviet Union***, ***Germany***. "
      ],
      "metadata": {
        "id": "x4PwNZDTZH4V"
      }
    },
    {
      "cell_type": "code",
      "execution_count": null,
      "outputs": [
        {
          "data": {
            "text/plain": "Team\nUnited States    1251\nSoviet Union      635\nGreat Britain     594\ndtype: int64"
          },
          "execution_count": 28,
          "metadata": {},
          "output_type": "execute_result"
        }
      ],
      "source": [
        "silver_summer.value_counts('Team').head(3) # # Top 3 countries with silver medal"
      ],
      "metadata": {
        "id": "Qc3DuPe3PYmV",
        "outputId": "1a175d75-539b-4db0-8e42-d8bce09c636e"
      }
    },
    {
      "cell_type": "markdown",
      "source": [
        "Top 3 countries with silver medal in summer games: ***United States***, ***Soviet Union***, ***Great Britain***. "
      ],
      "metadata": {
        "id": "Zs9Xy3NuZVHW"
      }
    },
    {
      "cell_type": "code",
      "execution_count": null,
      "outputs": [
        {
          "data": {
            "text/plain": "Team\nUnited States    1126\nGermany           614\nSoviet Union      596\ndtype: int64"
          },
          "execution_count": 29,
          "metadata": {},
          "output_type": "execute_result"
        }
      ],
      "source": [
        "bronze_summer.value_counts('Team').head(3) # # Top 3 countries with bronze medal"
      ],
      "metadata": {
        "id": "9dRLLSfuPYmW",
        "outputId": "1f223388-4dd3-4dd6-bec0-1701aca09677"
      }
    },
    {
      "cell_type": "markdown",
      "source": [
        "Top 3 countries with bronze medal in summer games: ***United States***, ***Germany***, ***Soviet Union***."
      ],
      "metadata": {
        "id": "1hmF-yroZbQW"
      }
    },
    {
      "cell_type": "code",
      "execution_count": null,
      "outputs": [],
      "source": [
        "winter_olymp = athletes_filtered.loc[athletes_filtered['Season'] == 'Winter']\n",
        "\n",
        "gold_winter = winter_olymp.loc[winter_olymp['Medal'] == 'Gold']\n",
        "silver_winter = winter_olymp.loc[winter_olymp['Medal'] == 'Silver']\n",
        "bronze_winter = winter_olymp.loc[winter_olymp['Medal'] == 'Bronze']"
      ],
      "metadata": {
        "id": "EQ9CGYK5PYmW"
      }
    },
    {
      "cell_type": "code",
      "execution_count": null,
      "outputs": [
        {
          "data": {
            "text/plain": "Team\nCanada           305\nSoviet Union     250\nUnited States    166\ndtype: int64"
          },
          "execution_count": 39,
          "metadata": {},
          "output_type": "execute_result"
        }
      ],
      "source": [
        "gold_winter.value_counts('Team').head(3) # Top 3 countries with golden medal"
      ],
      "metadata": {
        "id": "oGgxj1sQPYmW",
        "outputId": "895fdd2a-f900-464a-ec4a-02c8ab4bf1ee"
      }
    },
    {
      "cell_type": "markdown",
      "source": [
        "Top 3 countries with golden medal in winter games: ***Canada***, ***Soviet Union***, ***United States***."
      ],
      "metadata": {
        "id": "bReBwR1rZjtE"
      }
    },
    {
      "cell_type": "code",
      "execution_count": null,
      "outputs": [
        {
          "data": {
            "text/plain": "Team\nUnited States    308\nCanada           199\nNorway           165\ndtype: int64"
          },
          "execution_count": 40,
          "metadata": {},
          "output_type": "execute_result"
        }
      ],
      "source": [
        "silver_winter.value_counts('Team').head(3) # Top 3 countries with silver medal"
      ],
      "metadata": {
        "id": "njvbZmS8PYmW",
        "outputId": "20057d7e-909c-40ec-8dca-a220637b028b"
      }
    },
    {
      "cell_type": "markdown",
      "source": [
        "Top 3 countries with silver medal in winter games: ***United States***, ***Canada***, ***Norway***."
      ],
      "metadata": {
        "id": "9bPUyIiFZs4i"
      }
    },
    {
      "cell_type": "code",
      "execution_count": null,
      "outputs": [
        {
          "data": {
            "text/plain": "Team\nFinland          215\nSweden           177\nUnited States    161\ndtype: int64"
          },
          "execution_count": 41,
          "metadata": {},
          "output_type": "execute_result"
        }
      ],
      "source": [
        "bronze_winter.value_counts('Team').head(3) # Top 3 countries with bronze medal"
      ],
      "metadata": {
        "id": "dc_SLHEHPYmX",
        "outputId": "4c529a25-5222-4b90-9503-448d2a296e7d"
      }
    },
    {
      "cell_type": "markdown",
      "source": [
        "Top 3 countries with bronze medal in winter games: ***Finland***, ***Sweden***, ***United States***."
      ],
      "metadata": {
        "id": "zjKM1hK2Z0b1"
      }
    },
    {
      "cell_type": "markdown",
      "source": [
        "More diversity in winter games!"
      ],
      "metadata": {
        "collapsed": false,
        "id": "MO-0NAbIPYmX"
      }
    },
    {
      "cell_type": "markdown",
      "source": [
        "### New variables"
      ],
      "metadata": {
        "collapsed": false,
        "id": "BvxbwmkDPYmX"
      }
    },
    {
      "cell_type": "markdown",
      "source": [
        "#### 12. Z-scores"
      ],
      "metadata": {
        "collapsed": false,
        "id": "MVtm17aaPYmX"
      }
    },
    {
      "cell_type": "code",
      "execution_count": null,
      "outputs": [],
      "source": [
        "athletes_filtered = athletes_filtered.assign(Height_z_scores=stats.zscore(athletes_filtered['Height'], nan_policy='omit'))"
      ],
      "metadata": {
        "id": "wzluQkS5PYmY"
      }
    },
    {
      "cell_type": "code",
      "execution_count": null,
      "outputs": [
        {
          "data": {
            "text/plain": "          ID                    Name Sex   Age  Height  Weight         Team  \\\n0      68370          Helmut Lehmann   M  25.0   178.0    77.0  Switzerland   \n1      68371            Jens Lehmann   M  24.0   188.0    82.0      Germany   \n2      68371            Jens Lehmann   M  24.0   188.0    82.0      Germany   \n3      68371            Jens Lehmann   M  32.0   188.0    82.0      Germany   \n4      68371            Jens Lehmann   M  32.0   188.0    82.0      Germany   \n...      ...                     ...  ..   ...     ...     ...          ...   \n22597  57367  Velik Nikolov Kapsazov   M  21.0   167.0    67.0     Bulgaria   \n22598  57367  Velik Nikolov Kapsazov   M  21.0   167.0    67.0     Bulgaria   \n22599  57367  Velik Nikolov Kapsazov   M  25.0   167.0    67.0     Bulgaria   \n22600  57367  Velik Nikolov Kapsazov   M  25.0   167.0    67.0     Bulgaria   \n22601  57367  Velik Nikolov Kapsazov   M  25.0   167.0    67.0     Bulgaria   \n\n       NOC        Games    Year  Season         City       Sport  \\\n0      SUI  1984 Summer  1984.0  Summer  Los Angeles    Canoeing   \n1      GER  1992 Summer  1992.0  Summer    Barcelona     Cycling   \n2      GER  1992 Summer  1992.0  Summer    Barcelona     Cycling   \n3      GER  2000 Summer  2000.0  Summer       Sydney     Cycling   \n4      GER  2000 Summer  2000.0  Summer       Sydney     Cycling   \n...    ...          ...     ...     ...          ...         ...   \n22597  BUL  1956 Summer  1956.0  Summer    Melbourne  Gymnastics   \n22598  BUL  1956 Summer  1956.0  Summer    Melbourne  Gymnastics   \n22599  BUL  1960 Summer  1960.0  Summer         Roma  Gymnastics   \n22600  BUL  1960 Summer  1960.0  Summer         Roma  Gymnastics   \n22601  BUL  1960 Summer  1960.0  Summer         Roma  Gymnastics   \n\n                                                Event   Medal  \n0            Canoeing Men's Kayak Fours, 1,000 metres     NaN  \n1      Cycling Men's Individual Pursuit, 4,000 metres  Silver  \n2            Cycling Men's Team Pursuit, 4,000 metres    Gold  \n3      Cycling Men's Individual Pursuit, 4,000 metres  Silver  \n4            Cycling Men's Team Pursuit, 4,000 metres    Gold  \n...                                               ...     ...  \n22597                          Gymnastics Men's Rings     NaN  \n22598                Gymnastics Men's Pommelled Horse     NaN  \n22599           Gymnastics Men's Individual AllAround     NaN  \n22600                 Gymnastics Men's Team AllAround     NaN  \n22601                                    Gymnastics M     NaN  \n\n[265893 rows x 15 columns]",
            "text/html": "<div>\n<style scoped>\n    .dataframe tbody tr th:only-of-type {\n        vertical-align: middle;\n    }\n\n    .dataframe tbody tr th {\n        vertical-align: top;\n    }\n\n    .dataframe thead th {\n        text-align: right;\n    }\n</style>\n<table border=\"1\" class=\"dataframe\">\n  <thead>\n    <tr style=\"text-align: right;\">\n      <th></th>\n      <th>ID</th>\n      <th>Name</th>\n      <th>Sex</th>\n      <th>Age</th>\n      <th>Height</th>\n      <th>Weight</th>\n      <th>Team</th>\n      <th>NOC</th>\n      <th>Games</th>\n      <th>Year</th>\n      <th>Season</th>\n      <th>City</th>\n      <th>Sport</th>\n      <th>Event</th>\n      <th>Medal</th>\n    </tr>\n  </thead>\n  <tbody>\n    <tr>\n      <th>0</th>\n      <td>68370</td>\n      <td>Helmut Lehmann</td>\n      <td>M</td>\n      <td>25.0</td>\n      <td>178.0</td>\n      <td>77.0</td>\n      <td>Switzerland</td>\n      <td>SUI</td>\n      <td>1984 Summer</td>\n      <td>1984.0</td>\n      <td>Summer</td>\n      <td>Los Angeles</td>\n      <td>Canoeing</td>\n      <td>Canoeing Men's Kayak Fours, 1,000 metres</td>\n      <td>NaN</td>\n    </tr>\n    <tr>\n      <th>1</th>\n      <td>68371</td>\n      <td>Jens Lehmann</td>\n      <td>M</td>\n      <td>24.0</td>\n      <td>188.0</td>\n      <td>82.0</td>\n      <td>Germany</td>\n      <td>GER</td>\n      <td>1992 Summer</td>\n      <td>1992.0</td>\n      <td>Summer</td>\n      <td>Barcelona</td>\n      <td>Cycling</td>\n      <td>Cycling Men's Individual Pursuit, 4,000 metres</td>\n      <td>Silver</td>\n    </tr>\n    <tr>\n      <th>2</th>\n      <td>68371</td>\n      <td>Jens Lehmann</td>\n      <td>M</td>\n      <td>24.0</td>\n      <td>188.0</td>\n      <td>82.0</td>\n      <td>Germany</td>\n      <td>GER</td>\n      <td>1992 Summer</td>\n      <td>1992.0</td>\n      <td>Summer</td>\n      <td>Barcelona</td>\n      <td>Cycling</td>\n      <td>Cycling Men's Team Pursuit, 4,000 metres</td>\n      <td>Gold</td>\n    </tr>\n    <tr>\n      <th>3</th>\n      <td>68371</td>\n      <td>Jens Lehmann</td>\n      <td>M</td>\n      <td>32.0</td>\n      <td>188.0</td>\n      <td>82.0</td>\n      <td>Germany</td>\n      <td>GER</td>\n      <td>2000 Summer</td>\n      <td>2000.0</td>\n      <td>Summer</td>\n      <td>Sydney</td>\n      <td>Cycling</td>\n      <td>Cycling Men's Individual Pursuit, 4,000 metres</td>\n      <td>Silver</td>\n    </tr>\n    <tr>\n      <th>4</th>\n      <td>68371</td>\n      <td>Jens Lehmann</td>\n      <td>M</td>\n      <td>32.0</td>\n      <td>188.0</td>\n      <td>82.0</td>\n      <td>Germany</td>\n      <td>GER</td>\n      <td>2000 Summer</td>\n      <td>2000.0</td>\n      <td>Summer</td>\n      <td>Sydney</td>\n      <td>Cycling</td>\n      <td>Cycling Men's Team Pursuit, 4,000 metres</td>\n      <td>Gold</td>\n    </tr>\n    <tr>\n      <th>...</th>\n      <td>...</td>\n      <td>...</td>\n      <td>...</td>\n      <td>...</td>\n      <td>...</td>\n      <td>...</td>\n      <td>...</td>\n      <td>...</td>\n      <td>...</td>\n      <td>...</td>\n      <td>...</td>\n      <td>...</td>\n      <td>...</td>\n      <td>...</td>\n      <td>...</td>\n    </tr>\n    <tr>\n      <th>22597</th>\n      <td>57367</td>\n      <td>Velik Nikolov Kapsazov</td>\n      <td>M</td>\n      <td>21.0</td>\n      <td>167.0</td>\n      <td>67.0</td>\n      <td>Bulgaria</td>\n      <td>BUL</td>\n      <td>1956 Summer</td>\n      <td>1956.0</td>\n      <td>Summer</td>\n      <td>Melbourne</td>\n      <td>Gymnastics</td>\n      <td>Gymnastics Men's Rings</td>\n      <td>NaN</td>\n    </tr>\n    <tr>\n      <th>22598</th>\n      <td>57367</td>\n      <td>Velik Nikolov Kapsazov</td>\n      <td>M</td>\n      <td>21.0</td>\n      <td>167.0</td>\n      <td>67.0</td>\n      <td>Bulgaria</td>\n      <td>BUL</td>\n      <td>1956 Summer</td>\n      <td>1956.0</td>\n      <td>Summer</td>\n      <td>Melbourne</td>\n      <td>Gymnastics</td>\n      <td>Gymnastics Men's Pommelled Horse</td>\n      <td>NaN</td>\n    </tr>\n    <tr>\n      <th>22599</th>\n      <td>57367</td>\n      <td>Velik Nikolov Kapsazov</td>\n      <td>M</td>\n      <td>25.0</td>\n      <td>167.0</td>\n      <td>67.0</td>\n      <td>Bulgaria</td>\n      <td>BUL</td>\n      <td>1960 Summer</td>\n      <td>1960.0</td>\n      <td>Summer</td>\n      <td>Roma</td>\n      <td>Gymnastics</td>\n      <td>Gymnastics Men's Individual AllAround</td>\n      <td>NaN</td>\n    </tr>\n    <tr>\n      <th>22600</th>\n      <td>57367</td>\n      <td>Velik Nikolov Kapsazov</td>\n      <td>M</td>\n      <td>25.0</td>\n      <td>167.0</td>\n      <td>67.0</td>\n      <td>Bulgaria</td>\n      <td>BUL</td>\n      <td>1960 Summer</td>\n      <td>1960.0</td>\n      <td>Summer</td>\n      <td>Roma</td>\n      <td>Gymnastics</td>\n      <td>Gymnastics Men's Team AllAround</td>\n      <td>NaN</td>\n    </tr>\n    <tr>\n      <th>22601</th>\n      <td>57367</td>\n      <td>Velik Nikolov Kapsazov</td>\n      <td>M</td>\n      <td>25.0</td>\n      <td>167.0</td>\n      <td>67.0</td>\n      <td>Bulgaria</td>\n      <td>BUL</td>\n      <td>1960 Summer</td>\n      <td>1960.0</td>\n      <td>Summer</td>\n      <td>Roma</td>\n      <td>Gymnastics</td>\n      <td>Gymnastics M</td>\n      <td>NaN</td>\n    </tr>\n  </tbody>\n</table>\n<p>265893 rows × 15 columns</p>\n</div>"
          },
          "execution_count": 56,
          "metadata": {},
          "output_type": "execute_result"
        }
      ],
      "source": [
        "athletes_filtered"
      ],
      "metadata": {
        "id": "8HF7UlPyPYmY",
        "outputId": "78522ad0-e76b-419f-ef6a-16583e935702"
      }
    },
    {
      "cell_type": "markdown",
      "source": [
        "#### 13. Min-max normalisation (additional task)"
      ],
      "metadata": {
        "collapsed": false,
        "id": "sVoXLr-ePYmZ"
      }
    },
    {
      "cell_type": "code",
      "execution_count": null,
      "outputs": [],
      "source": [
        "max_height = max(athletes_filtered['Height']) # 226 is a maximum height\n",
        "min_height = min(athletes_filtered['Height']) # 127 is a minimum height\n",
        "delta = max_height - min_height"
      ],
      "metadata": {
        "id": "A-ZAPERFPYmZ"
      }
    },
    {
      "cell_type": "code",
      "execution_count": null,
      "outputs": [],
      "source": [
        "athletes_filtered = athletes_filtered.assign(Height_min_max_scaled=athletes_filtered['Height'].apply(\n",
        "    lambda x: (x - min_height) / delta if x is not np.NaN else np.NaN)\n",
        ")"
      ],
      "metadata": {
        "id": "Wek4VUxmPYmZ"
      }
    },
    {
      "cell_type": "markdown",
      "source": [
        "### 14. Height, weight, age"
      ],
      "metadata": {
        "collapsed": false,
        "id": "AaKSYviqPYma"
      }
    },
    {
      "cell_type": "code",
      "execution_count": null,
      "outputs": [],
      "source": [
        "def find_mean(data: pd.DataFrame, sex: str, var: str) -> pd.DataFrame:\n",
        "    return data.loc[data['Sex'] == sex][var].dropna().mean()\n",
        "\n",
        "height_women = find_mean(winter_olymp, 'F', 'Height')\n",
        "weight_women = find_mean(winter_olymp, 'F', 'Weight')\n",
        "age_women = find_mean(winter_olymp, 'F', 'Age')\n",
        "\n",
        "height_men = find_mean(winter_olymp, 'M', 'Height')\n",
        "weight_men = find_mean(winter_olymp, 'M', 'Weight')\n",
        "age_men = find_mean(winter_olymp, 'M', 'Age')"
      ],
      "metadata": {
        "id": "EoldGPOaPYma"
      }
    },
    {
      "cell_type": "code",
      "execution_count": null,
      "outputs": [],
      "source": [
        "data_for_publ = {'Mean height' : [height_men, height_women, height_men - height_women],\n",
        "                 'Mean weight' : [weight_men, weight_women, weight_men - weight_women],\n",
        "                 'Mean age' : [age_men, age_women, age_men - age_women]}\n",
        "\n",
        "comparisons = pd.DataFrame(data_for_publ, index=['Men', 'Women', 'Difference'])\n",
        "\n",
        "path = 'data/comparisons.xlsx'\n",
        "comparisons.to_excel(f'{path}', index=True)\n",
        "\n",
        "#Is excel table enough for publication? Who knows; for such small table i prefer use tables in google docs/word  or in overleaf"
      ],
      "metadata": {
        "id": "6h-TChkLPYmb"
      }
    },
    {
      "cell_type": "markdown",
      "source": [
        "### 15. Team and medal\n",
        "\n",
        "These variables are connected. It is obvious when you see results of top countries with different medals (in summer the united states are always first), and there are always soviet union or some european countries. And we can find the correlation coefficient"
      ],
      "metadata": {
        "collapsed": false,
        "id": "VEYbSo7tPYmb"
      }
    },
    {
      "cell_type": "code",
      "execution_count": null,
      "outputs": [
        {
          "data": {
            "text/plain": "0.05997730335402653"
          },
          "execution_count": 88,
          "metadata": {},
          "output_type": "execute_result"
        }
      ],
      "source": [
        "athletes_filtered['Team'].astype('category').cat.codes.corr(athletes_filtered['Medal'].astype('category').cat.codes) #hmmm not big enough after all"
      ],
      "metadata": {
        "id": "zVnTOOlePYmb",
        "outputId": "56437648-e0fe-4439-cb11-2a0110daaf4a"
      }
    },
    {
      "cell_type": "code",
      "execution_count": null,
      "outputs": [
        {
          "data": {
            "text/plain": "0.014778365636515514"
          },
          "execution_count": 105,
          "metadata": {},
          "output_type": "execute_result"
        }
      ],
      "source": [
        "medaliststs = athletes_filtered[~athletes_filtered['Medal'].isna()]\n",
        "medalists = medaliststs[medaliststs['Team'].isin(list(medaliststs.value_counts('Team').head(10).index.values))]\n",
        "medaliststs['Team'].astype('category').cat.codes.corr(medaliststs['Medal'].astype('category').cat.codes)"
      ],
      "metadata": {
        "id": "lD52FCgrPYmb",
        "outputId": "1397d060-471c-4b25-e9fb-48d6aa27087d"
      }
    },
    {
      "cell_type": "code",
      "execution_count": null,
      "outputs": [
        {
          "data": {
            "text/plain": "0.002181642340942651"
          },
          "execution_count": 87,
          "metadata": {},
          "output_type": "execute_result"
        }
      ],
      "source": [
        "athletes_filtered['Team'].astype('category').cat.codes.corr(athletes_filtered['Medal'].dropna().astype('category').cat.codes)"
      ],
      "metadata": {
        "id": "KU2nN59mPYmc",
        "outputId": "cc09cd00-bc44-40eb-c3a9-0974a50e341c"
      }
    },
    {
      "cell_type": "code",
      "execution_count": null,
      "outputs": [
        {
          "data": {
            "text/plain": "0.012443469091629645"
          },
          "execution_count": 107,
          "metadata": {},
          "output_type": "execute_result"
        }
      ],
      "source": [
        "medaliststs['Team'].astype('category').cat.codes.corr(medalists['Medal'].astype('category').cat.codes)"
      ],
      "metadata": {
        "id": "4g3i0cUFPYmc",
        "outputId": "ceed3c44-dd7a-40f5-cca5-abc0d87a3b35"
      }
    }
  ],
  "metadata": {
    "kernelspec": {
      "display_name": "Python 3",
      "language": "python",
      "name": "python3"
    },
    "language_info": {
      "codemirror_mode": {
        "name": "ipython",
        "version": 2
      },
      "file_extension": ".py",
      "mimetype": "text/x-python",
      "name": "python",
      "nbconvert_exporter": "python",
      "pygments_lexer": "ipython2",
      "version": "2.7.6"
    },
    "colab": {
      "provenance": [],
      "include_colab_link": true
    }
  },
  "nbformat": 4,
  "nbformat_minor": 0
}
