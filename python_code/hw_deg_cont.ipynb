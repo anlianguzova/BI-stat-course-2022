{
  "nbformat": 4,
  "nbformat_minor": 0,
  "metadata": {
    "colab": {
      "provenance": [],
      "authorship_tag": "ABX9TyPT9sbUVq55xYKvxdnyZfr7",
      "include_colab_link": true
    },
    "kernelspec": {
      "name": "python3",
      "display_name": "Python 3"
    },
    "language_info": {
      "name": "python"
    }
  },
  "cells": [
    {
      "cell_type": "markdown",
      "metadata": {
        "id": "view-in-github",
        "colab_type": "text"
      },
      "source": [
        "<a href=\"https://colab.research.google.com/github/anlianguzova/BI-stat-course-2022/blob/hw_DEG_cont/python_code/hw_deg_cont.ipynb\" target=\"_parent\"><img src=\"https://colab.research.google.com/assets/colab-badge.svg\" alt=\"Open In Colab\"/></a>"
      ]
    },
    {
      "cell_type": "code",
      "execution_count": null,
      "metadata": {
        "id": "nk1ke0B5FntL"
      },
      "outputs": [],
      "source": [
        "import pandas as pd\n",
        "import seaborn as sns\n",
        "import numpy as np\n",
        "import scipy.stats as st\n",
        "from statsmodels.stats.weightstats import ztest\n"
      ]
    },
    {
      "cell_type": "markdown",
      "source": [
        "## Code from previous homework"
      ],
      "metadata": {
        "id": "X5hi8vEYGWmr"
      }
    },
    {
      "cell_type": "code",
      "source": [
        "data_path = \"data\"\n",
        "expression_data = pd.read_csv(f\"{data_path}/homework_lecture_5_data.csv\", index_col=0)\n",
        "expression_data.head()"
      ],
      "metadata": {
        "id": "zsjYm-LhGK1B"
      },
      "execution_count": null,
      "outputs": []
    },
    {
      "cell_type": "code",
      "source": [
        "b_cells_expression_data = expression_data.query(\"Cell_type == 'B_cell'\")\n",
        "nk_cells_expression_data = expression_data.query(\"Cell_type == 'NK_cell'\")\n",
        "\n",
        "example_gene = \"TMCC1\"\n",
        "\n",
        "sns.histplot(b_cells_expression_data[example_gene], stat=\"density\")"
      ],
      "metadata": {
        "id": "0dQV-BndGNA-"
      },
      "execution_count": null,
      "outputs": []
    },
    {
      "cell_type": "code",
      "source": [
        "sns.histplot(nk_cells_expression_data[example_gene], stat=\"density\")"
      ],
      "metadata": {
        "id": "NSXLX-r5GRF5"
      },
      "execution_count": null,
      "outputs": []
    },
    {
      "cell_type": "code",
      "source": [
        "def demonstrate_clt(expressions, sample_size: int = 1000, n_samples: int = 1000):\n",
        "    randoms = np.array([\n",
        "        np.random.choice(\n",
        "            expressions, size=sample_size\n",
        "        ) for _ in range(n_samples)\n",
        "    ])\n",
        "    mean_expressions = randoms.mean()\n",
        "    return mean_expressions"
      ],
      "metadata": {
        "id": "GeCGe5reGefW"
      },
      "execution_count": null,
      "outputs": []
    },
    {
      "cell_type": "code",
      "source": [
        "b_example = b_cells_expression_data[example_gene]\n",
        "nk_example = nk_cells_expression_data[example_gene]\n",
        "\n",
        "b_dem_res = demonstrate_clt(b_example)\n",
        "nk_dem_res = demonstrate_clt(nk_example)\n",
        "b_dem_res, nk_dem_res"
      ],
      "metadata": {
        "id": "byXt5OWSGhFP"
      },
      "execution_count": null,
      "outputs": []
    },
    {
      "cell_type": "code",
      "source": [
        "# Confidence interval for B-cells\n",
        "def calculate_ci(sample, mean_mean, std = None):\n",
        "    if std is None:\n",
        "      std = sample.std()\n",
        "\n",
        "    se = std / np.sqrt(len(sample))\n",
        "    left_b = mean_mean - 1.96 * se\n",
        "    right_b = mean_mean + 1.96 * se\n",
        "\n",
        "    return left_b, right_b\n",
        "\n",
        "b_int = calculate_ci(b_example, b_dem_res)\n",
        "\n",
        "b_int, b_dem_res"
      ],
      "metadata": {
        "id": "HxGItOYQGisL"
      },
      "execution_count": null,
      "outputs": []
    },
    {
      "cell_type": "code",
      "source": [
        "# Confidence interval for NK-cells\n",
        "nk_int = calculate_ci(nk_example, nk_dem_res)\n",
        "\n",
        "nk_int, nk_dem_res"
      ],
      "metadata": {
        "id": "FVQOzv0SGoa6"
      },
      "execution_count": null,
      "outputs": []
    },
    {
      "cell_type": "code",
      "source": [
        "st.t.interval(confidence = 0.95, \n",
        "              df = len(b_cells_expression_data[example_gene]) - 1, \n",
        "              loc = np.mean(b_cells_expression_data[example_gene]), \n",
        "              scale = st.sem(b_cells_expression_data[example_gene])) "
      ],
      "metadata": {
        "id": "jZXjGj83GzWO"
      },
      "execution_count": null,
      "outputs": []
    },
    {
      "cell_type": "code",
      "source": [
        "st.t.interval(confidence = 0.95, \n",
        "              df = len(nk_cells_expression_data[example_gene]) - 1,\n",
        "              loc = np.mean(nk_cells_expression_data[example_gene]),\n",
        "              scale = st.sem(nk_cells_expression_data[example_gene]))"
      ],
      "metadata": {
        "id": "CVTeS0Z3G2HF"
      },
      "execution_count": null,
      "outputs": []
    },
    {
      "cell_type": "code",
      "source": [
        "def check_intervals_intersect(first_ci: tuple, second_ci: tuple):\n",
        "    are_intersect = False\n",
        "    if (first_ci[1] > second_ci[0]) and (first_ci[0] < second_ci[1]):\n",
        "        are_intersect = True\n",
        "    return are_intersect"
      ],
      "metadata": {
        "id": "3kU8vfpzG-yJ"
      },
      "execution_count": null,
      "outputs": []
    },
    {
      "cell_type": "code",
      "source": [
        "def get_names(table):\n",
        "    return table.columns[:-1].values\n",
        "\n",
        "gene_names_exp = get_names(expression_data)"
      ],
      "metadata": {
        "id": "fGiIWQdBHAx-"
      },
      "execution_count": null,
      "outputs": []
    },
    {
      "cell_type": "code",
      "source": [
        "def interval_95(table, length):\n",
        "    ans = st.t.interval(confidence=0.95,\n",
        "                        df=length - 1,\n",
        "                        loc=np.mean(table),\n",
        "                        scale=st.sem(table))\n",
        "    return ans\n",
        "\n",
        "def interval_to_tables(first_table, second_table):\n",
        "    first_intervals = []\n",
        "    second_intervals = []\n",
        "    gene_names = get_names(first_table)\n",
        "    for gene in gene_names:\n",
        "        df_f_length = len(first_table[gene])\n",
        "        first_int = interval_95(first_table[gene], df_f_length)\n",
        "        first_intervals.append(first_int)\n",
        "        df_s_length = len(second_table[gene])\n",
        "        second_int = interval_95(second_table[gene], df_s_length)\n",
        "        second_intervals.append(second_int)\n",
        "    return first_intervals, second_intervals\n",
        "\n",
        "def check_dge_with_ci(first_table, second_table):\n",
        "    f_intervals, s_intervals = interval_to_tables(first_table, second_table)\n",
        "    ci_test_results = []\n",
        "    for f_int, s_int in zip(\n",
        "        f_intervals, s_intervals\n",
        "    ):\n",
        "        ci_test_results.append(check_intervals_intersect(f_int, s_int))\n",
        "    return ci_test_results\n",
        "\n",
        "check_dge_with_ci(b_cells_expression_data, nk_cells_expression_data)"
      ],
      "metadata": {
        "id": "_4-lKUJRHCX3"
      },
      "execution_count": null,
      "outputs": []
    },
    {
      "cell_type": "markdown",
      "source": [
        "## Multiple comparisons"
      ],
      "metadata": {
        "id": "3C7ATJSIHMpE"
      }
    },
    {
      "cell_type": "code",
      "source": [
        "def corr_mult_comp(p_values: list, method: str) -> list:\n",
        "    from statsmodels.stats.multitest import multipletests as mpt\n",
        "    return list(mpt(p_values, method=method)[1])\n",
        "\n",
        "def find_p_val(first_table, second_table):\n",
        "    gene_names = get_names(first_table)\n",
        "    z_stat_val = []\n",
        "    for gene in gene_names:\n",
        "        ans = ztest(\n",
        "            first_table[gene],\n",
        "            second_table[gene]\n",
        "        )\n",
        "        z_stat_val.append(ans)\n",
        "    z_test_p_values = []\n",
        "    for num in z_stat_val:\n",
        "        z_test_p_values.append(num[1])\n",
        "    return z_test_p_values\n",
        "\n",
        "def test_p_val(p_values):\n",
        "    z_test_results = []\n",
        "    for val in p_values:\n",
        "        if val < 0.05:\n",
        "            z_test_results.append(True)\n",
        "        else:\n",
        "            z_test_results.append(False)\n",
        "    return z_test_results\n",
        "\n",
        "\n",
        "def check_dge_with_ztest(first_table, second_table, results=True, values=False, method=None):\n",
        "    z_test_p_values = find_p_val(first_table, second_table)\n",
        "    z_test_results = test_p_val(z_test_p_values)\n",
        "    if method:\n",
        "        cor_p_values = corr_mult_comp(z_test_p_values, method=method)\n",
        "        z_test_cor_res = test_p_val(cor_p_values)\n",
        "        if results:\n",
        "            return z_test_cor_res\n",
        "        if values:\n",
        "            return cor_p_values\n",
        "    else:\n",
        "        if results:\n",
        "            return z_test_results\n",
        "        if values:\n",
        "            return z_test_p_values\n",
        "\n",
        "check_dge_with_ztest(b_cells_expression_data, nk_cells_expression_data, )"
      ],
      "metadata": {
        "id": "QoWASY6KHFrP"
      },
      "execution_count": null,
      "outputs": []
    },
    {
      "cell_type": "code",
      "source": [
        "def create_table(first_table, second_table, method=None):\n",
        "    ci_test_results = check_dge_with_ci(first_table, second_table)\n",
        "    z_test_results = check_dge_with_ztest(first_table, second_table, results=True)\n",
        "    z_test_p_values = check_dge_with_ztest(first_table, second_table, results=False, values=True)\n",
        "    #mean_diff = mean_differ(first_table, second_table)\n",
        "    results = {\n",
        "        \"ci_test_results\": ci_test_results,\n",
        "        \"z_test_results\": z_test_results,\n",
        "        \"z_test_p_values\": z_test_p_values,\n",
        "        #\"mean_diff\": mean_diff\n",
        "    }\n",
        "    if method:\n",
        "        z_test_cor_res = check_dge_with_ztest(first_table, second_table, results=True, method=method)\n",
        "        z_test_cor_p_val = check_dge_with_ztest(first_table, second_table, results=False, values=True, method=method)\n",
        "        results[\"z_test_cor_res\"] = z_test_cor_res\n",
        "        results[\"z_test_cor_p_values\"] = z_test_cor_p_val\n",
        "        return pd.DataFrame(results)\n",
        "    print(pd.DataFrame(results))\n",
        "\n",
        "create_table(b_cells_expression_data, nk_cells_expression_data, method=\"holm\")"
      ],
      "metadata": {
        "id": "67qtlS6hHX0c"
      },
      "execution_count": null,
      "outputs": []
    }
  ]
}